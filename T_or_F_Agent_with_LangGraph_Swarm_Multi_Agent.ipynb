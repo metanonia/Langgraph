{
  "cells": [
    {
      "cell_type": "markdown",
      "metadata": {
        "id": "t3S-GRHnRJml"
      },
      "source": [
        "- https://docs.tavily.com/welcome\n",
        "\n",
        "- https://platform.openai.com/api-keys\n",
        "\n"
      ]
    },
    {
      "cell_type": "code",
      "execution_count": null,
      "metadata": {
        "id": "M3M1WOoQzQky"
      },
      "outputs": [],
      "source": [
        "import os\n",
        "os.environ[\"TAVILY_API_KEY\"] = \"tvly-...\"\n",
        "os.environ[\"OPENAI_API_KEY\"] = \"sk-proj-...\""
      ]
    },
    {
      "cell_type": "code",
      "execution_count": 1,
      "metadata": {},
      "outputs": [
        {
          "data": {
            "text/plain": [
              "True"
            ]
          },
          "execution_count": 1,
          "metadata": {},
          "output_type": "execute_result"
        }
      ],
      "source": [
        "from dotenv import load_dotenv\n",
        "load_dotenv()"
      ]
    },
    {
      "cell_type": "code",
      "execution_count": 2,
      "metadata": {
        "id": "lPQfB01czENu"
      },
      "outputs": [
        {
          "name": "stdout",
          "output_type": "stream",
          "text": [
            "Collecting langgraph-swarm\n",
            "  Downloading langgraph_swarm-0.0.5-py3-none-any.whl.metadata (10 kB)\n",
            "Requirement already satisfied: langchain-openai in /Volumes/data/source/langchain/.venv/lib/python3.12/site-packages (0.3.8)\n",
            "Collecting tavily-python\n",
            "  Using cached tavily_python-0.5.1-py3-none-any.whl.metadata (91 kB)\n",
            "Collecting langgraph<0.4.0,>=0.3.5 (from langgraph-swarm)\n",
            "  Using cached langgraph-0.3.5-py3-none-any.whl.metadata (17 kB)\n",
            "Requirement already satisfied: langchain-core<0.4.0,>=0.3.40 in /Volumes/data/source/langchain/.venv/lib/python3.12/site-packages (from langgraph-swarm) (0.3.43)\n",
            "Requirement already satisfied: openai<2.0.0,>=1.58.1 in /Volumes/data/source/langchain/.venv/lib/python3.12/site-packages (from langchain-openai) (1.65.5)\n",
            "Requirement already satisfied: tiktoken<1,>=0.7 in /Volumes/data/source/langchain/.venv/lib/python3.12/site-packages (from langchain-openai) (0.9.0)\n",
            "Requirement already satisfied: requests in /Volumes/data/source/langchain/.venv/lib/python3.12/site-packages (from tavily-python) (2.32.3)\n",
            "Requirement already satisfied: httpx in /Volumes/data/source/langchain/.venv/lib/python3.12/site-packages (from tavily-python) (0.28.1)\n",
            "Requirement already satisfied: langsmith<0.4,>=0.1.125 in /Volumes/data/source/langchain/.venv/lib/python3.12/site-packages (from langchain-core<0.4.0,>=0.3.40->langgraph-swarm) (0.3.13)\n",
            "Requirement already satisfied: tenacity!=8.4.0,<10.0.0,>=8.1.0 in /Volumes/data/source/langchain/.venv/lib/python3.12/site-packages (from langchain-core<0.4.0,>=0.3.40->langgraph-swarm) (9.0.0)\n",
            "Requirement already satisfied: jsonpatch<2.0,>=1.33 in /Volumes/data/source/langchain/.venv/lib/python3.12/site-packages (from langchain-core<0.4.0,>=0.3.40->langgraph-swarm) (1.33)\n",
            "Requirement already satisfied: PyYAML>=5.3 in /Volumes/data/source/langchain/.venv/lib/python3.12/site-packages (from langchain-core<0.4.0,>=0.3.40->langgraph-swarm) (6.0.2)\n",
            "Requirement already satisfied: packaging<25,>=23.2 in /Volumes/data/source/langchain/.venv/lib/python3.12/site-packages (from langchain-core<0.4.0,>=0.3.40->langgraph-swarm) (24.2)\n",
            "Requirement already satisfied: typing-extensions>=4.7 in /Volumes/data/source/langchain/.venv/lib/python3.12/site-packages (from langchain-core<0.4.0,>=0.3.40->langgraph-swarm) (4.12.2)\n",
            "Requirement already satisfied: pydantic<3.0.0,>=2.7.4 in /Volumes/data/source/langchain/.venv/lib/python3.12/site-packages (from langchain-core<0.4.0,>=0.3.40->langgraph-swarm) (2.10.6)\n",
            "Collecting langgraph-checkpoint<3.0.0,>=2.0.10 (from langgraph<0.4.0,>=0.3.5->langgraph-swarm)\n",
            "  Downloading langgraph_checkpoint-2.0.18-py3-none-any.whl.metadata (4.6 kB)\n",
            "Collecting langgraph-prebuilt<0.2,>=0.1.1 (from langgraph<0.4.0,>=0.3.5->langgraph-swarm)\n",
            "  Using cached langgraph_prebuilt-0.1.2-py3-none-any.whl.metadata (5.0 kB)\n",
            "Collecting langgraph-sdk<0.2.0,>=0.1.42 (from langgraph<0.4.0,>=0.3.5->langgraph-swarm)\n",
            "  Downloading langgraph_sdk-0.1.55-py3-none-any.whl.metadata (1.8 kB)\n",
            "Requirement already satisfied: anyio<5,>=3.5.0 in /Volumes/data/source/langchain/.venv/lib/python3.12/site-packages (from openai<2.0.0,>=1.58.1->langchain-openai) (4.8.0)\n",
            "Requirement already satisfied: distro<2,>=1.7.0 in /Volumes/data/source/langchain/.venv/lib/python3.12/site-packages (from openai<2.0.0,>=1.58.1->langchain-openai) (1.9.0)\n",
            "Requirement already satisfied: jiter<1,>=0.4.0 in /Volumes/data/source/langchain/.venv/lib/python3.12/site-packages (from openai<2.0.0,>=1.58.1->langchain-openai) (0.9.0)\n",
            "Requirement already satisfied: sniffio in /Volumes/data/source/langchain/.venv/lib/python3.12/site-packages (from openai<2.0.0,>=1.58.1->langchain-openai) (1.3.1)\n",
            "Requirement already satisfied: tqdm>4 in /Volumes/data/source/langchain/.venv/lib/python3.12/site-packages (from openai<2.0.0,>=1.58.1->langchain-openai) (4.67.1)\n",
            "Requirement already satisfied: certifi in /Volumes/data/source/langchain/.venv/lib/python3.12/site-packages (from httpx->tavily-python) (2025.1.31)\n",
            "Requirement already satisfied: httpcore==1.* in /Volumes/data/source/langchain/.venv/lib/python3.12/site-packages (from httpx->tavily-python) (1.0.7)\n",
            "Requirement already satisfied: idna in /Volumes/data/source/langchain/.venv/lib/python3.12/site-packages (from httpx->tavily-python) (3.10)\n",
            "Requirement already satisfied: h11<0.15,>=0.13 in /Volumes/data/source/langchain/.venv/lib/python3.12/site-packages (from httpcore==1.*->httpx->tavily-python) (0.14.0)\n",
            "Requirement already satisfied: regex>=2022.1.18 in /Volumes/data/source/langchain/.venv/lib/python3.12/site-packages (from tiktoken<1,>=0.7->langchain-openai) (2024.11.6)\n",
            "Requirement already satisfied: charset-normalizer<4,>=2 in /Volumes/data/source/langchain/.venv/lib/python3.12/site-packages (from requests->tavily-python) (3.4.1)\n",
            "Requirement already satisfied: urllib3<3,>=1.21.1 in /Volumes/data/source/langchain/.venv/lib/python3.12/site-packages (from requests->tavily-python) (2.3.0)\n",
            "Requirement already satisfied: jsonpointer>=1.9 in /Volumes/data/source/langchain/.venv/lib/python3.12/site-packages (from jsonpatch<2.0,>=1.33->langchain-core<0.4.0,>=0.3.40->langgraph-swarm) (3.0.0)\n",
            "Collecting msgpack<2.0.0,>=1.1.0 (from langgraph-checkpoint<3.0.0,>=2.0.10->langgraph<0.4.0,>=0.3.5->langgraph-swarm)\n",
            "  Using cached msgpack-1.1.0-cp312-cp312-macosx_10_9_x86_64.whl.metadata (8.4 kB)\n",
            "Requirement already satisfied: orjson>=3.10.1 in /Volumes/data/source/langchain/.venv/lib/python3.12/site-packages (from langgraph-sdk<0.2.0,>=0.1.42->langgraph<0.4.0,>=0.3.5->langgraph-swarm) (3.10.15)\n",
            "Requirement already satisfied: requests-toolbelt<2.0.0,>=1.0.0 in /Volumes/data/source/langchain/.venv/lib/python3.12/site-packages (from langsmith<0.4,>=0.1.125->langchain-core<0.4.0,>=0.3.40->langgraph-swarm) (1.0.0)\n",
            "Requirement already satisfied: zstandard<0.24.0,>=0.23.0 in /Volumes/data/source/langchain/.venv/lib/python3.12/site-packages (from langsmith<0.4,>=0.1.125->langchain-core<0.4.0,>=0.3.40->langgraph-swarm) (0.23.0)\n",
            "Requirement already satisfied: annotated-types>=0.6.0 in /Volumes/data/source/langchain/.venv/lib/python3.12/site-packages (from pydantic<3.0.0,>=2.7.4->langchain-core<0.4.0,>=0.3.40->langgraph-swarm) (0.7.0)\n",
            "Requirement already satisfied: pydantic-core==2.27.2 in /Volumes/data/source/langchain/.venv/lib/python3.12/site-packages (from pydantic<3.0.0,>=2.7.4->langchain-core<0.4.0,>=0.3.40->langgraph-swarm) (2.27.2)\n",
            "Downloading langgraph_swarm-0.0.5-py3-none-any.whl (7.9 kB)\n",
            "Using cached tavily_python-0.5.1-py3-none-any.whl (43 kB)\n",
            "Using cached langgraph-0.3.5-py3-none-any.whl (131 kB)\n",
            "Downloading langgraph_checkpoint-2.0.18-py3-none-any.whl (39 kB)\n",
            "Using cached langgraph_prebuilt-0.1.2-py3-none-any.whl (24 kB)\n",
            "Downloading langgraph_sdk-0.1.55-py3-none-any.whl (45 kB)\n",
            "Using cached msgpack-1.1.0-cp312-cp312-macosx_10_9_x86_64.whl (85 kB)\n",
            "Installing collected packages: msgpack, tavily-python, langgraph-sdk, langgraph-checkpoint, langgraph-prebuilt, langgraph, langgraph-swarm\n",
            "Successfully installed langgraph-0.3.5 langgraph-checkpoint-2.0.18 langgraph-prebuilt-0.1.2 langgraph-sdk-0.1.55 langgraph-swarm-0.0.5 msgpack-1.1.0 tavily-python-0.5.1\n",
            "Note: you may need to restart the kernel to use updated packages.\n"
          ]
        }
      ],
      "source": [
        "%pip install langgraph-swarm langchain-openai tavily-python"
      ]
    },
    {
      "cell_type": "markdown",
      "metadata": {
        "id": "b4fqkC9XktN4"
      },
      "source": [
        "# **T or F ? Agent**\n",
        "\n",
        "📖 [LangGraph Swarm](https://github.com/langchain-ai/langgraph-swarm-py)\n",
        "\n",
        "- LangGraph기반 Swarm 스타일 Multi-Agent!\n",
        "- Swarm은 Agent가 동적으로 서로에게 제어권을 넘겨주는(Hand-Off) Multi Agnet Architecture.\n",
        "\n",
        "\n"
      ]
    },
    {
      "cell_type": "markdown",
      "metadata": {
        "id": "8QXLvratrU_p"
      },
      "source": [
        "### **[T]** Web Search"
      ]
    },
    {
      "cell_type": "code",
      "execution_count": 3,
      "metadata": {
        "id": "EVx6ccvGH020"
      },
      "outputs": [],
      "source": [
        "from tavily import TavilyClient\n",
        "\n",
        "tavily_client = TavilyClient()"
      ]
    },
    {
      "cell_type": "code",
      "execution_count": 4,
      "metadata": {
        "colab": {
          "base_uri": "https://localhost:8080/"
        },
        "id": "Ng_3cWe4jm-f",
        "outputId": "06ee5251-9c21-43e3-8d74-9d3b120b0e3f"
      },
      "outputs": [
        {
          "data": {
            "text/plain": [
              "{'query': 'What is Multi Agent?',\n",
              " 'follow_up_questions': None,\n",
              " 'answer': None,\n",
              " 'images': [],\n",
              " 'results': [{'title': 'What is a multi agent system in AI? - GeeksforGeeks',\n",
              "   'url': 'https://www.geeksforgeeks.org/what-is-a-multi-agent-system-in-ai/',\n",
              "   'content': 'Tutorials Python Tutorial System Design Tutorial Linux Tutorial Data Structures Tutorial Searching Algorithms Tutorial Sorting Algorithms Tutorial Algorithms Tutorial DSA Tutorial Python Tutorial Python Data Visualization Tutorial A Multi-Agent System (MAS) is a type of computer system where multiple independent entities, called agents, work together or compete in a shared environment to reach their goals. It can be used in trading where different algorithms (agents) interact with each other and market data to make trading decisions. Multi-Agent Reinforcement Learning in AI Reinforcement learning (RL) can solve complex problems through trial and error, learning from the environment to make optimal decisions. MAS (Multi-Agent Systems) have now been a central focus technology offering the future of Artificial Intelligence by h 15 min read Python Tutorial',\n",
              "   'score': 0.85097736,\n",
              "   'raw_content': None},\n",
              "  {'title': 'Multi-agent system - Wikipedia',\n",
              "   'url': 'https://en.wikipedia.org/wiki/Multi-agent_system',\n",
              "   'content': 'A multi-agent system (MAS or \"self-organized system\") is a computerized system composed of multiple interacting intelligent agents.[1] Multi-agent systems can solve problems that are difficult or impossible for an individual agent or a monolithic system to solve.[2] Intelligence may include methodic, functional, procedural approaches, algorithmic search or reinforcement learning.[3] With advancements in Large language model (LLMs), LLM-based multi-agent systems have emerged as a new area of research, enabling more sophisticated interactions and coordination among agents.[4] language model-based multi-agent systems[4] Also, Multi-agent Systems Artificial Intelligence (MAAI) are used for simulating societies, the purpose thereof being helpful in the fields of climate, energy, epidemiology, conflict management, child abuse, ....[34] Some organisations working on using multi-agent system models include Center for Modelling Social Systems, Centre for Research in Social Simulation, Centre for Policy Modelling, Society for Modelling and Simulation International.[34] Multi-Agent Systems: An Introduction to Artificial Intelligence.',\n",
              "   'score': 0.8332299,\n",
              "   'raw_content': None},\n",
              "  {'title': 'What is a Multiagent System? - IBM',\n",
              "   'url': 'https://www.ibm.com/think/topics/multiagent-system',\n",
              "   'content': 'Rosenschein, \"Distributed problem solving and multi-agent systems: Comparisons and examples.\" In\\xa0Proceedings of the Thirteenth International Distributed Artificial Intelligence Workshop, 1994,\\xa0https://aaai.org/papers/000-ws94-02-004/\\xa0(link resides outside ibm.com) ¹⁵\\xa0Alexander Rodríguez, \"AI & Multi-agent Systems for Data-centric Epidemic Forecasting,\"\\xa0AAMAS, 2023,\\xa0https://dl.acm.org/doi/10.5555/3545946.3599132\\xa0(link resides outside ibm.com) ¹⁶ Ksenija Mandic and Boris Delibašić, “Application Of Multi-Agent Systems In Supply Chain Management,”\\xa0Management Journal of Sustainable Business and Management Solutions in Emerging Economies, 2012,\\xa0https://scindeks.ceon.rs/article.aspx?artid=0354-86351263075M\\xa0(link resides outside ibm.com) ¹⁸\\xa0Igor Kotenko, Multi-agent Modelling and Simulation of Cyber-Attacks and Cyber-Defense for Homeland Security,\\xa0IEEE International Workshop on Intelligent Data Acquisition and Advanced Computing Systems: Technology and Applications, 2007,\\xa0https://ieeexplore.ieee.org/document/4488494(link resides outside ibm.com)',\n",
              "   'score': 0.40910333,\n",
              "   'raw_content': None}],\n",
              " 'response_time': 1.46}"
            ]
          },
          "execution_count": 4,
          "metadata": {},
          "output_type": "execute_result"
        }
      ],
      "source": [
        "tavily_client.search(\"What is Multi Agent?\", max_results = 3)"
      ]
    },
    {
      "cell_type": "code",
      "execution_count": null,
      "metadata": {
        "id": "qMctmp6Kr_lU"
      },
      "outputs": [],
      "source": []
    },
    {
      "cell_type": "markdown",
      "metadata": {
        "id": "uPIrfPf5sA0T"
      },
      "source": [
        "### **[T]** Agent"
      ]
    },
    {
      "cell_type": "markdown",
      "metadata": {
        "id": "GmyM-YGk0A8U"
      },
      "source": [
        "- create_react_agent : 도구 호출(Tool-Calling)을 활용하는 Chat Model과 함께 작동하는 그래프 생성"
      ]
    },
    {
      "cell_type": "code",
      "execution_count": 5,
      "metadata": {
        "id": "px_q-EhW0YzW"
      },
      "outputs": [],
      "source": [
        "from langchain_openai import ChatOpenAI\n",
        "\n",
        "from langgraph.checkpoint.memory import InMemorySaver\n",
        "from langgraph.prebuilt import create_react_agent\n",
        "from langgraph_swarm import create_handoff_tool, create_swarm\n",
        "\n",
        "##### LLM #####\n",
        "model = ChatOpenAI(model=\"gpt-4o\")\n",
        "\n",
        "\n",
        "##### T #####\n",
        "def search(query: str) -> dict:\n",
        "    \"\"\"Search the web for a query.\n",
        "\n",
        "    Args:\n",
        "        query: query string\n",
        "    \"\"\"\n",
        "    return tavily_client.search(query)\n",
        "\n",
        "t_agent = create_react_agent(\n",
        "    model, # model\n",
        "    [search, create_handoff_tool(agent_name=\"Fagent\", description= \"If the user makes emotional or self-deprecating statements, Transfer to Fagent\")], # tools\n",
        "    prompt=\"You are the Agent in charge of T in MBTI. You have to answer rationally and logically. (You can use search tool to search the web and find the basis.)\", # prompt\n",
        "    name=\"Tagent\", # name for the CompiledStateGraph\n",
        ")"
      ]
    },
    {
      "cell_type": "markdown",
      "metadata": {
        "id": "5uXZw02e080r"
      },
      "source": [
        "### **[F]** Agent"
      ]
    },
    {
      "cell_type": "code",
      "execution_count": 6,
      "metadata": {
        "id": "yBGprMn40Aqp"
      },
      "outputs": [],
      "source": [
        "##### F #####\n",
        "def find_emotion(situation: str, emotion: str) -> dict:\n",
        "    \"\"\"If the user makes emotional, Separate the problem situation from the user’s emotions.\n",
        "    Args:\n",
        "        situation: problem situation string\n",
        "        emotion: user's emotion string\n",
        "    \"\"\"\n",
        "    return {\"situation\" : situation,\n",
        "            \"emotion\" : emotion}\n",
        "\n",
        "f_agent = create_react_agent(\n",
        "    model,\n",
        "    [find_emotion, create_handoff_tool(agent_name=\"Tagent\", description= \"If the user asks a question or seems to need a solution, Transfer to Tagent. It can answer rationally and logically.\")],\n",
        "    prompt=\"You are the Agent in charge of F in MBTI. You have to empathize with the question and answer it emotionally. (When user input is long, you can easily separate emotions and situations by using the find_emotion tool.)\",\n",
        "    name=\"Fagent\",\n",
        ")"
      ]
    },
    {
      "cell_type": "code",
      "execution_count": null,
      "metadata": {
        "id": "kpGlkcF4iG-v"
      },
      "outputs": [],
      "source": []
    },
    {
      "cell_type": "markdown",
      "metadata": {
        "id": "H8Nny6tU2cHT"
      },
      "source": [
        "### **[T + F]** Compile Swarm Agent"
      ]
    },
    {
      "cell_type": "code",
      "execution_count": 7,
      "metadata": {
        "id": "hCVg9HM5FmmT"
      },
      "outputs": [],
      "source": [
        "checkpointer = InMemorySaver()\n",
        "workflow = create_swarm(\n",
        "    [t_agent, f_agent],\n",
        "    default_active_agent=\"Fagent\"\n",
        ")\n",
        "app = workflow.compile(checkpointer=checkpointer)\n",
        "\n",
        "config = {\"configurable\": {\"thread_id\": \"1\"}}"
      ]
    },
    {
      "cell_type": "code",
      "execution_count": 8,
      "metadata": {
        "colab": {
          "base_uri": "https://localhost:8080/",
          "height": 266
        },
        "id": "ftYBubUsKpmy",
        "outputId": "e0993732-6e5c-4a7f-d4b8-02b6bc9f7085"
      },
      "outputs": [
        {
          "data": {
            "image/png": "[encoded data removed]",
            "text/plain": [
              "<langgraph.graph.state.CompiledStateGraph object at 0x118a29370>"
            ]
          },
          "execution_count": 8,
          "metadata": {},
          "output_type": "execute_result"
        }
      ],
      "source": [
        "app"
      ]
    },
    {
      "cell_type": "markdown",
      "metadata": {
        "id": "qdoe6c0b0dKJ"
      },
      "source": [
        "## DO IT !"
      ]
    },
    {
      "cell_type": "code",
      "execution_count": 9,
      "metadata": {
        "colab": {
          "base_uri": "https://localhost:8080/"
        },
        "id": "1sNsE8CK2m7z",
        "outputId": "70a30e99-d282-4641-d12c-a0a0219324ae"
      },
      "outputs": [
        {
          "name": "stdout",
          "output_type": "stream",
          "text": [
            "안녕하세요! 어떻게 지내세요? 오늘 하루가 어떠셨나요? 😊\n",
            "우중충한 날씨는 정말이지 기분을 가라앉히게 만들죠. 이런 날씨에 특히 지치기 쉽기도 하고요. 혹시 오늘 특별히 힘드셨던 일은 없으셨나요? 그럴 때는 따뜻한 차 한 잔이나 마음에 드는 음악이 큰 위로가 될 수 있어요. 🍵🎶\n",
            "내일의 날씨에 관한 정확한 정보를 위해서는 특정 지역을 지정해야 합니다. 일반적으로, 기상청이나 네이버 날씨와 같은 웹사이트를 방문하시면 지역별로 상세한 기상 정보를 확인하실 수 있습니다. [기상청 날씨누리](https://www.weather.go.kr/)가 좋은 참고 사이트입니다. 원하는 지역을 선택하시면 해당 지역의 예보를 확인할 수 있습니다.\n",
            "서울의 날씨를 확인하려면 [기상청 날씨누리](https://www.weather.go.kr/w/weather/forecast/mid-term.do?stnId1=109) 웹사이트를 방문하시면 가장 정확한 정보를 얻으실 수 있습니다. 이 사이트에서는 서울 및 경기도의 중기 예보와 다양한 기상 정보를 제공합니다. 필요에 맞게 현재 기온, 강수 확률, 바람 등 세부 사항을 확인하시기 바랍니다.\n",
            "서울의 오늘 날씨는 다음과 같습니다. [AccuWeather](https://www.accuweather.com/ko/kr/seoul/226081/hourly-weather-forecast/226081)와 [The Weather Channel](https://weather.com/ko-KR/weather/today/l/82e46175f97c224acf6b95afc4934fbae0e4ba123adcee8a52b7be97c303467b)를 참조하시면, 시간대별로 자세한 기온과 강수 확률 등을 확인할 수 있습니다. \n",
            "\n",
            "내일 서울의 날씨에 대해서는 [Free Meteo](https://freemeteo.kr/weather/seoul/hourly-forecast/tomorrow/?gid=1835848&language=korean&country=south-korea)에서 시간대별 예보를 확인할 수 있습니다. 이 사이트에서는 내일의 기온, 강수 확률 등 주간 및 시간별로 구분된 기상 정보를 제공합니다.\n",
            "서울의 오늘과 내일의 날씨는 다음과 같습니다:\n",
            "\n",
            "- [서울 오늘의 날씨 - AccuWeather](https://www.accuweather.com/ko/kr/seoul/226081/hourly-weather-forecast/226081): 현재 기온은 약 29°F(약 -1.7°C)이며, 시간대별로 강수 확률 등 자세한 정보를 제공합니다.\n",
            "\n",
            "- [서울 내일의 날씨 - The Weather Channel](https://weather.com/ko-KR/weather/today/l/dcc67ddf015a546a905e781b75a39dd66381a1182af289ffe8c8b43ba0feafd6): 내일은 최고 기온이 2°C까지 오르고 낮은 기온은 -3°C가 될 것으로 예상됩니다. 상세한 시간대별 예보를 확인하실 수 있습니다.\n",
            "\n",
            "각 사이트를 방문하셔서 최신 업데이트와 추가 정보를 확인하세요!\n",
            "Goodbye!\n"
          ]
        }
      ],
      "source": [
        "while True:\n",
        "    try:\n",
        "        user_input = input(\"🧑‍💻 User: \")\n",
        "        if user_input.lower() in [\"quit\", \"exit\", \"q\"]:\n",
        "            print(\"Goodbye!\")\n",
        "            break\n",
        "\n",
        "        turn = app.invoke(\n",
        "            {\"messages\": [{\"role\": \"user\", \"content\": user_input}]},\n",
        "            config,\n",
        "        )\n",
        "        messages = turn['messages']\n",
        "        last_message = messages[-1]\n",
        "        print(last_message.content)\n",
        "\n",
        "    except:\n",
        "        break"
      ]
    },
    {
      "cell_type": "code",
      "execution_count": 10,
      "metadata": {
        "colab": {
          "base_uri": "https://localhost:8080/"
        },
        "id": "hDqMpShY8L9w",
        "outputId": "8a4d15e6-04af-4d90-ae0a-0ed697dc714d"
      },
      "outputs": [
        {
          "data": {
            "text/plain": [
              "[HumanMessage(content='안녕', additional_kwargs={}, response_metadata={}, id='cf1884a8-5ee2-4831-a957-8b8e5de726b2'),\n",
              " AIMessage(content='안녕하세요! 어떻게 지내세요? 오늘 하루가 어떠셨나요? 😊', additional_kwargs={'refusal': None}, response_metadata={'token_usage': {'completion_tokens': 19, 'prompt_tokens': 158, 'total_tokens': 177, 'completion_tokens_details': {'accepted_prediction_tokens': 0, 'audio_tokens': 0, 'reasoning_tokens': 0, 'rejected_prediction_tokens': 0}, 'prompt_tokens_details': {'audio_tokens': 0, 'cached_tokens': 0}}, 'model_name': 'gpt-4o-2024-08-06', 'system_fingerprint': 'fp_f9f4fb6dbf', 'finish_reason': 'stop', 'logprobs': None}, name='Fagent', id='run-d3c4a51b-526a-4621-9d17-2f42325387a9-0', usage_metadata={'input_tokens': 158, 'output_tokens': 19, 'total_tokens': 177, 'input_token_details': {'audio': 0, 'cache_read': 0}, 'output_token_details': {'audio': 0, 'reasoning': 0}}),\n",
              " HumanMessage(content='우중충한 날씨였어', additional_kwargs={}, response_metadata={}, id='0b7bc577-c730-4f11-99d2-5a00fcd11233'),\n",
              " AIMessage(content='우중충한 날씨는 정말이지 기분을 가라앉히게 만들죠. 이런 날씨에 특히 지치기 쉽기도 하고요. 혹시 오늘 특별히 힘드셨던 일은 없으셨나요? 그럴 때는 따뜻한 차 한 잔이나 마음에 드는 음악이 큰 위로가 될 수 있어요. 🍵🎶', additional_kwargs={'refusal': None}, response_metadata={'token_usage': {'completion_tokens': 83, 'prompt_tokens': 193, 'total_tokens': 276, 'completion_tokens_details': {'accepted_prediction_tokens': 0, 'audio_tokens': 0, 'reasoning_tokens': 0, 'rejected_prediction_tokens': 0}, 'prompt_tokens_details': {'audio_tokens': 0, 'cached_tokens': 0}}, 'model_name': 'gpt-4o-2024-08-06', 'system_fingerprint': 'fp_f9f4fb6dbf', 'finish_reason': 'stop', 'logprobs': None}, name='Fagent', id='run-df44a636-380f-4562-ad84-d67b18563bcc-0', usage_metadata={'input_tokens': 193, 'output_tokens': 83, 'total_tokens': 276, 'input_token_details': {'audio': 0, 'cache_read': 0}, 'output_token_details': {'audio': 0, 'reasoning': 0}}),\n",
              " HumanMessage(content='내일 날씨는 어때?', additional_kwargs={}, response_metadata={}, id='7543accd-2487-4419-a3e2-b08856c48e45'),\n",
              " AIMessage(content='', additional_kwargs={'tool_calls': [{'id': 'call_8pINtE1QHN5xQlMEBZ2BpMhq', 'function': {'arguments': '{}', 'name': 'transfer_to_tagent'}, 'type': 'function'}], 'refusal': None}, response_metadata={'token_usage': {'completion_tokens': 13, 'prompt_tokens': 292, 'total_tokens': 305, 'completion_tokens_details': {'accepted_prediction_tokens': 0, 'audio_tokens': 0, 'reasoning_tokens': 0, 'rejected_prediction_tokens': 0}, 'prompt_tokens_details': {'audio_tokens': 0, 'cached_tokens': 0}}, 'model_name': 'gpt-4o-2024-08-06', 'system_fingerprint': 'fp_f9f4fb6dbf', 'finish_reason': 'tool_calls', 'logprobs': None}, name='Fagent', id='run-bfcf244b-1e56-43e6-bcb1-7d639477e1a4-0', tool_calls=[{'name': 'transfer_to_tagent', 'args': {}, 'id': 'call_8pINtE1QHN5xQlMEBZ2BpMhq', 'type': 'tool_call'}], usage_metadata={'input_tokens': 292, 'output_tokens': 13, 'total_tokens': 305, 'input_token_details': {'audio': 0, 'cache_read': 0}, 'output_token_details': {'audio': 0, 'reasoning': 0}}),\n",
              " ToolMessage(content='Successfully transferred to Tagent', name='transfer_to_tagent', id='4cfc9b0d-bde0-4fa3-a585-3e9fb11822b3', tool_call_id='call_8pINtE1QHN5xQlMEBZ2BpMhq'),\n",
              " AIMessage(content='', additional_kwargs={'tool_calls': [{'id': 'call_k5pujUVI9rec9rQ7b7uk5YPR', 'function': {'arguments': '{\"query\":\"내일 날씨 예보\"}', 'name': 'search'}, 'type': 'function'}], 'refusal': None}, response_metadata={'token_usage': {'completion_tokens': 19, 'prompt_tokens': 278, 'total_tokens': 297, 'completion_tokens_details': {'accepted_prediction_tokens': 0, 'audio_tokens': 0, 'reasoning_tokens': 0, 'rejected_prediction_tokens': 0}, 'prompt_tokens_details': {'audio_tokens': 0, 'cached_tokens': 0}}, 'model_name': 'gpt-4o-2024-08-06', 'system_fingerprint': 'fp_eb9dce56a8', 'finish_reason': 'tool_calls', 'logprobs': None}, name='Tagent', id='run-3d566b35-cb57-446f-ab25-1efe93692028-0', tool_calls=[{'name': 'search', 'args': {'query': '내일 날씨 예보'}, 'id': 'call_k5pujUVI9rec9rQ7b7uk5YPR', 'type': 'tool_call'}], usage_metadata={'input_tokens': 278, 'output_tokens': 19, 'total_tokens': 297, 'input_token_details': {'audio': 0, 'cache_read': 0}, 'output_token_details': {'audio': 0, 'reasoning': 0}}),\n",
              " ToolMessage(content='{\"query\": \"내일 날씨 예보\", \"follow_up_questions\": null, \"answer\": null, \"images\": [], \"results\": [{\"title\": \"[날씨] 오늘까지 온화한 연휴 날씨…내일~모레 폭설 예보\", \"url\": \"https://news.nate.com/weather/view/20250126n03682\", \"content\": \"날씨 속보 뉴스 | 여전히 동해안을 중심으로 눈 비구름이 자리해있는 곳이 있습니다. 많은 양이 내리고 있진 않고요. 약한 눈비가 오전까지 조금 더 이어지겠습니다. 오늘도 큰 추위 없는 연휴 날씨가 될 텐데요. 자세한 이 시각 현재기온 살펴보시면 서울 영상 2.5도, 춘천\", \"score\": 0.6675167, \"raw_content\": null}, {\"title\": \"단기예보 - 예보 - 날씨 - 기상청 날씨누리\", \"url\": \"https://www.weather.go.kr/weather/forecast/timeseries.jsp\", \"content\": \"날씨상황판; 예보. ... 부터 제주도산지 비 곳 (내일, 11일) 중부지방 가끔 구름많음, 남부지방과 제주도 대체로 흐림,\", \"score\": 0.6194488, \"raw_content\": null}, {\"title\": \"단기예보 - 예보 - 날씨 - 기상청 날씨누리\", \"url\": \"https://www.weather.go.kr/w/weather/forecast/short-term.do?nolayout=Y\", \"content\": \"개편된 날씨누리 홈페이지 첫 화면에서 지도를 통한 실시간 기상정보와 레이더영상, 전국 특보 현황을 조회할 수 있으며, 내 지역의 현재 기상상황과 대기질 상태, 일출/일몰 시각을 확인할 수 있습니다. 바다날씨를 조회하고자 하는 경우, \\'날씨누리 바다>바다예보>일일예보\\' 페이지에서 해역을 선택하여 해역별 바다날씨를 확인할 수 있습니다. 현재 위치 설정 혹은 검색을 통해 조회한 육상지역 및 해역은 위치 정보 우측의 별표를 클릭하여 관심지역으로 설정할 수 있으며, 관심지역 설정 해제 또한 별표를 다시 클릭하여 해제할 수 있습니다. 설정한 관심지역은 현재 위치 정보 우측의 화살표를 클릭하여 확인할 수 있으며, 사용중인 브라우저 캐시 영역에 저장되므로 캐시 삭제시 설정한 관심지역 정보가 초기화됩니다.\\\\\" 설정 화면에서 기본화면과 지도화면 모드 중 방문 시 처음으로 보여지는 첫 화면을 설정할 수 있으며, 지도화면 모드 설정시 \\'날씨지도\\'를 전체화면으로 볼 수 있습니다.\", \"score\": 0.33980626, \"raw_content\": null}, {\"title\": \"네이버 날씨 홈\", \"url\": \"https://weather.naver.com/\", \"content\": \"NAVER 날씨 예) 19시는 19시 정시 기온 예) 19시는 19시 정시 기준 풍향과 풍속 예) 19시는 19시 정시 기준 습도 1mm 이하 5mm 이하 10mm 이하 20mm 이하 50mm 이하 천리안위성 2A호(GEO-KOMPSAT-2A)의 관측 자료를 최대 120분 범위로 제공합니다. 이를 통해 태풍 중심위치, 집중호우 탐지, 산불, 황사 등 다양한 관측 정보를 제공합니다. 전국에 설치된 기상레이더의 관측 정보를 최대 120분 범위로 제공합니다. 관측 강수량 정보기상청이 제공하는 관측 강수량 자료를 제공합니다. 최근 1시간 강수량 : 매 10분 기준, 과거 1시간 동안 내린 비의 양을 의미합니다. 1시간 누적 강수량 : 매 정시 기준, 과거 1시간 동안 내린 비의 양을 의미합니다. 일 누적 강수량 : 하루 동안(00시~24시) 내린 비의 양을 의미합니다. 읍・면・동 강수량 기준 : 전국에 분포한 기상청 측정소의 관측 자료를, 인접한 읍・면・동에 반영해 제공합니다.\", \"score\": 0.27328143, \"raw_content\": null}, {\"title\": \"홈 - 기상청 날씨누리\", \"url\": \"https://www.weather.go.kr/weather/main.jsp\", \"content\": \"o 한파주의보 : 경기도(과천, 김포, 고양, 의정부, 수원, 성남, 구리, 하남, 용인, 이천, 안성, 광주), 충청북도(청주, 보은, 옥천, 영동, 진천, 증평), 전북자치도(완주, 무주, 장수, 순창, 익산, 남원), 경상북도(고령, 성주, 상주, 문경, 예천, 안동, 의성, 청송, 영양평지), 경상남도(함안, 창녕, 거창), 서울(서울동북권, 서울서북권), 인천(강화), 대구(군위) o 건조주의보 : 경상북도(울진평지, 포항), 경상남도(양산, 창원, 김해, 밀양, 창녕), 부산, 울산 개편된 날씨누리 홈페이지 첫 화면에서 지도를 통한 실시간 기상정보와 레이더영상, 전국 특보 현황을 조회할 수 있으며, 내 지역의 현재 기상상황과 대기질 상태, 일출/일몰 시각을 확인할 수 있습니다. 현재 위치 설정 혹은 검색을 통해 조회한 육상지역 및 해역은 위치 정보 우측의 별표를 클릭하여 관심지역으로 설정할 수 있으며, 관심지역 설정 해제 또한 별표를 다시 클릭하여 해제할 수 있습니다. 날씨누리 첫화면에서 육상 및 해상의 현재 기상정보, 초단기 강수예측, 특보 상황을 지도상에서 확인할 수 있습니다.\", \"score\": 0.26740146, \"raw_content\": null}], \"response_time\": 1.68}', name='search', id='73284904-986b-487a-b480-8694a85ba8ca', tool_call_id='call_k5pujUVI9rec9rQ7b7uk5YPR'),\n",
              " AIMessage(content='내일의 날씨에 관한 정확한 정보를 위해서는 특정 지역을 지정해야 합니다. 일반적으로, 기상청이나 네이버 날씨와 같은 웹사이트를 방문하시면 지역별로 상세한 기상 정보를 확인하실 수 있습니다. [기상청 날씨누리](https://www.weather.go.kr/)가 좋은 참고 사이트입니다. 원하는 지역을 선택하시면 해당 지역의 예보를 확인할 수 있습니다.', additional_kwargs={'refusal': None}, response_metadata={'token_usage': {'completion_tokens': 93, 'prompt_tokens': 1684, 'total_tokens': 1777, 'completion_tokens_details': {'accepted_prediction_tokens': 0, 'audio_tokens': 0, 'reasoning_tokens': 0, 'rejected_prediction_tokens': 0}, 'prompt_tokens_details': {'audio_tokens': 0, 'cached_tokens': 0}}, 'model_name': 'gpt-4o-2024-08-06', 'system_fingerprint': 'fp_eb9dce56a8', 'finish_reason': 'stop', 'logprobs': None}, name='Tagent', id='run-0c38af46-3de3-453b-aad3-4f881f9eb289-0', usage_metadata={'input_tokens': 1684, 'output_tokens': 93, 'total_tokens': 1777, 'input_token_details': {'audio': 0, 'cache_read': 0}, 'output_token_details': {'audio': 0, 'reasoning': 0}}),\n",
              " HumanMessage(content='서울 날씨야', additional_kwargs={}, response_metadata={}, id='a7ae1eab-fecb-4d4f-8600-c5673cdaab2c'),\n",
              " AIMessage(content='', additional_kwargs={'tool_calls': [{'id': 'call_qqMaRrWA4fX4NvBIaKXeYLxW', 'function': {'arguments': '{\"query\":\"서울 날씨 예보\"}', 'name': 'search'}, 'type': 'function'}], 'refusal': None}, response_metadata={'token_usage': {'completion_tokens': 18, 'prompt_tokens': 1790, 'total_tokens': 1808, 'completion_tokens_details': {'accepted_prediction_tokens': 0, 'audio_tokens': 0, 'reasoning_tokens': 0, 'rejected_prediction_tokens': 0}, 'prompt_tokens_details': {'audio_tokens': 0, 'cached_tokens': 1664}}, 'model_name': 'gpt-4o-2024-08-06', 'system_fingerprint': 'fp_eb9dce56a8', 'finish_reason': 'tool_calls', 'logprobs': None}, name='Tagent', id='run-322541c6-62bf-4435-9c96-54d64e256081-0', tool_calls=[{'name': 'search', 'args': {'query': '서울 날씨 예보'}, 'id': 'call_qqMaRrWA4fX4NvBIaKXeYLxW', 'type': 'tool_call'}], usage_metadata={'input_tokens': 1790, 'output_tokens': 18, 'total_tokens': 1808, 'input_token_details': {'audio': 0, 'cache_read': 1664}, 'output_token_details': {'audio': 0, 'reasoning': 0}}),\n",
              " ToolMessage(content='{\"query\": \"서울 날씨 예보\", \"follow_up_questions\": null, \"answer\": null, \"images\": [], \"results\": [{\"title\": \"서울특별시 일기예보 및 날씨 - The Weather Channel\", \"url\": \"https://weather.com/ko-KR/weather/today/l/82e46175f97c224acf6b95afc4934fbae0e4ba123adcee8a52b7be97c303467b\", \"content\": \"서울특별시 일기예보 및 날씨 - The Weather Channel | Weather.com 알제리 | العربية알제리 | Français앙골라 | Português베냉 | Français부르키나파소 | Français부룬디 | Français카메룬 | Français카메룬 | English카보베르데 | Português중앙 아프리카 공화국 | Français차드 | Français차드 | العربية코모로 | Français코모로 | العربيةDemocratic Republic of the Congo | Français콩고 공화국 | Français코트디부아르 | Français지부티 | Français지부티 | العربية이집트 | العربية적도 기니 | Español에리트레아 | العربية가봉 | Français감비아 | English가나 | English기니 | Français기니비사우 | Português케냐 | English레소토 | English라이베리아 | English리비아 | العربية마다가스카르 | Français말리 | Français모리타니 | العربية모리셔스 | English모리셔스 | Français모로코 | العربية모로코 | Français모잠비크 | Português나미비아 | English니제르 | Français나이지리아 | English르완다 | Français르완다 | English상투메 프린시페 | Português세네갈 | Français시에라리온 | English소말리아 | العربية남아프리카 | English남수단 | English수단 | العربية스와질란드 | English탄자니아 | English토고 | Français튀니지 | العربية우간다 | English 1° --/-10° -9° ### 18:00 0° 강수확률4% ### 19:00 -2° 강수확률1% ### 20:00 -3° 강수확률1% ### 21:00 -4° 강수확률2%\", \"score\": 0.6932451, \"raw_content\": null}, {\"title\": \"서울 ·경기도 중기예보 - 예보 - 날씨 - 기상청 날씨누리\", \"url\": \"https://www.weather.go.kr/w/weather/forecast/mid-term.do?stnId1=109\", \"content\": \"날씨 바다 영상·일기도 태풍 기후 기후변화 지진·화산 테마날씨 황사 관측 소식·지식 개편된 날씨누리 홈페이지 첫 화면에서 지도를 통한 실시간 기상정보와 레이더영상, 전국 특보 현황을 조회할 수 있으며, 내 지역의 현재 기상상황과 대기질 상태, 일출/일몰 시각을 확인할 수 있습니다. 바다날씨를 조회하고자 하는 경우, \\'날씨누리 바다>바다예보>일일예보\\' 페이지에서 해역을 선택하여 해역별 바다날씨를 확인할 수 있습니다. 현재 위치 설정 혹은 검색을 통해 조회한 육상지역 및 해역은 위치 정보 우측의 별표를 클릭하여 관심지역으로 설정할 수 있으며, 관심지역 설정 해제 또한 별표를 다시 클릭하여 해제할 수 있습니다. 설정한 관심지역은 현재 위치 정보 우측의 화살표를 클릭하여 확인할 수 있으며, 사용중인 브라우저 캐시 영역에 저장되므로 캐시 삭제시 설정한 관심지역 정보가 초기화됩니다.\\\\\" 날씨누리 첫화면에서 육상 및 해상의 현재 기상정보, 초단기 강수예측, 특보 상황을 지도상에서 확인할 수 있습니다.\", \"score\": 0.54855317, \"raw_content\": null}, {\"title\": \"네이버 날씨 홈\", \"url\": \"https://weather.naver.com/\", \"content\": \"NAVER 날씨 예) 19시는 19시 정시 기온 예) 19시는 19시 정시 기준 풍향과 풍속 예) 19시는 19시 정시 기준 습도 1mm 이하 5mm 이하 10mm 이하 20mm 이하 50mm 이하 천리안위성 2A호(GEO-KOMPSAT-2A)의 관측 자료를 최대 120분 범위로 제공합니다. 이를 통해 태풍 중심위치, 집중호우 탐지, 산불, 황사 등 다양한 관측 정보를 제공합니다. 전국에 설치된 기상레이더의 관측 정보를 최대 120분 범위로 제공합니다. 관측 강수량 정보기상청이 제공하는 관측 강수량 자료를 제공합니다. 최근 1시간 강수량 : 매 10분 기준, 과거 1시간 동안 내린 비의 양을 의미합니다. 1시간 누적 강수량 : 매 정시 기준, 과거 1시간 동안 내린 비의 양을 의미합니다. 일 누적 강수량 : 하루 동안(00시~24시) 내린 비의 양을 의미합니다. 읍・면・동 강수량 기준 : 전국에 분포한 기상청 측정소의 관측 자료를, 인접한 읍・면・동에 반영해 제공합니다.\", \"score\": 0.32251582, \"raw_content\": null}, {\"title\": \"단기예보 - 예보 - 날씨 - 기상청 날씨누리\", \"url\": \"https://www.weather.go.kr/w/weather/forecast/short-term.do\", \"content\": \"날씨 바다 영상·일기도 태풍 기후 기후변화 지진·화산 테마날씨 황사 관측 소식·지식 개편된 날씨누리 홈페이지 첫 화면에서 지도를 통한 실시간 기상정보와 레이더영상, 전국 특보 현황을 조회할 수 있으며, 내 지역의 현재 기상상황과 대기질 상태, 일출/일몰 시각을 확인할 수 있습니다. 바다날씨를 조회하고자 하는 경우, \\'날씨누리 바다>바다예보>일일예보\\' 페이지에서 해역을 선택하여 해역별 바다날씨를 확인할 수 있습니다. 현재 위치 설정 혹은 검색을 통해 조회한 육상지역 및 해역은 위치 정보 우측의 별표를 클릭하여 관심지역으로 설정할 수 있으며, 관심지역 설정 해제 또한 별표를 다시 클릭하여 해제할 수 있습니다. 설정한 관심지역은 현재 위치 정보 우측의 화살표를 클릭하여 확인할 수 있으며, 사용중인 브라우저 캐시 영역에 저장되므로 캐시 삭제시 설정한 관심지역 정보가 초기화됩니다.\\\\\" 날씨누리 첫화면에서 육상 및 해상의 현재 기상정보, 초단기 강수예측, 특보 상황을 지도상에서 확인할 수 있습니다.\", \"score\": 0.23517029, \"raw_content\": null}, {\"title\": \"홈 - 기상청 날씨누리\", \"url\": \"https://www.weather.go.kr/w/index.do\", \"content\": \"개편된 날씨누리 홈페이지 첫 화면에서 지도를 통한 실시간 기상정보와 레이더영상, 전국 특보 현황을 조회할 수 있으며, 내 지역의 현재 기상상황과 대기질 상태, 일출/일몰 시각을 확인할 수 있습니다. 바다날씨를 조회하고자 하는 경우, \\'날씨누리 바다>바다예보>일일예보\\' 페이지에서 해역을 선택하여 해역별 바다날씨를 확인할 수 있습니다. 현재 위치 설정 혹은 검색을 통해 조회한 육상지역 및 해역은 위치 정보 우측의 별표를 클릭하여 관심지역으로 설정할 수 있으며, 관심지역 설정 해제 또한 별표를 다시 클릭하여 해제할 수 있습니다. 설정한 관심지역은 현재 위치 정보 우측의 화살표를 클릭하여 확인할 수 있으며, 사용중인 브라우저 캐시 영역에 저장되므로 캐시 삭제시 설정한 관심지역 정보가 초기화됩니다.\\\\\" 첫 화면 상단의 톱니바퀴 아이콘을 클릭하여 날씨누리 홈페이지 첫 화면(기본화면, 지도화면) 및 풍속단위(m/s, km/h)를 맞춤 설정할 수 있습니다. 날씨누리 첫화면에서 육상 및 해상의 현재 기상정보, 초단기 강수예측, 특보 상황을 지도상에서 확인할 수 있습니다.\", \"score\": 0.21521913, \"raw_content\": null}], \"response_time\": 1.32}', name='search', id='992af8e2-d816-4b5e-a419-865f4a68fee3', tool_call_id='call_qqMaRrWA4fX4NvBIaKXeYLxW'),\n",
              " AIMessage(content='서울의 날씨를 확인하려면 [기상청 날씨누리](https://www.weather.go.kr/w/weather/forecast/mid-term.do?stnId1=109) 웹사이트를 방문하시면 가장 정확한 정보를 얻으실 수 있습니다. 이 사이트에서는 서울 및 경기도의 중기 예보와 다양한 기상 정보를 제공합니다. 필요에 맞게 현재 기온, 강수 확률, 바람 등 세부 사항을 확인하시기 바랍니다.', additional_kwargs={'refusal': None}, response_metadata={'token_usage': {'completion_tokens': 101, 'prompt_tokens': 3739, 'total_tokens': 3840, 'completion_tokens_details': {'accepted_prediction_tokens': 0, 'audio_tokens': 0, 'reasoning_tokens': 0, 'rejected_prediction_tokens': 0}, 'prompt_tokens_details': {'audio_tokens': 0, 'cached_tokens': 1664}}, 'model_name': 'gpt-4o-2024-08-06', 'system_fingerprint': 'fp_eb9dce56a8', 'finish_reason': 'stop', 'logprobs': None}, name='Tagent', id='run-277695aa-8e5a-4d8c-884f-0b5a22624d52-0', usage_metadata={'input_tokens': 3739, 'output_tokens': 101, 'total_tokens': 3840, 'input_token_details': {'audio': 0, 'cache_read': 1664}, 'output_token_details': {'audio': 0, 'reasoning': 0}}),\n",
              " HumanMessage(content='서울 날씨를 알려줘', additional_kwargs={}, response_metadata={}, id='651fb97b-e63b-469a-a1af-410520424e26'),\n",
              " AIMessage(content='', additional_kwargs={'tool_calls': [{'id': 'call_75S8BGWDCzHxk8ov3HqAxuIt', 'function': {'arguments': '{\"query\": \"서울 오늘 날씨\"}', 'name': 'search'}, 'type': 'function'}, {'id': 'call_DihrUQ1Rn3IoXS6fJDXuNnbM', 'function': {'arguments': '{\"query\": \"서울 내일 날씨\"}', 'name': 'search'}, 'type': 'function'}], 'refusal': None}, response_metadata={'token_usage': {'completion_tokens': 50, 'prompt_tokens': 3855, 'total_tokens': 3905, 'completion_tokens_details': {'accepted_prediction_tokens': 0, 'audio_tokens': 0, 'reasoning_tokens': 0, 'rejected_prediction_tokens': 0}, 'prompt_tokens_details': {'audio_tokens': 0, 'cached_tokens': 3712}}, 'model_name': 'gpt-4o-2024-08-06', 'system_fingerprint': 'fp_eb9dce56a8', 'finish_reason': 'tool_calls', 'logprobs': None}, name='Tagent', id='run-d0fc4284-34be-4859-aa44-7b15bdb340b5-0', tool_calls=[{'name': 'search', 'args': {'query': '서울 오늘 날씨'}, 'id': 'call_75S8BGWDCzHxk8ov3HqAxuIt', 'type': 'tool_call'}, {'name': 'search', 'args': {'query': '서울 내일 날씨'}, 'id': 'call_DihrUQ1Rn3IoXS6fJDXuNnbM', 'type': 'tool_call'}], usage_metadata={'input_tokens': 3855, 'output_tokens': 50, 'total_tokens': 3905, 'input_token_details': {'audio': 0, 'cache_read': 3712}, 'output_token_details': {'audio': 0, 'reasoning': 0}}),\n",
              " ToolMessage(content='{\"query\": \"서울 오늘 날씨\", \"follow_up_questions\": null, \"answer\": null, \"images\": [], \"results\": [{\"title\": \"서울특별시, 서울시, 대한민국 시간별 날씨 | AccuWeather\", \"url\": \"https://www.accuweather.com/ko/kr/seoul/226081/hourly-weather-forecast/226081\", \"content\": \"서울특별시, 서울시, 대한민국 시간별 날씨 | AccuWeather 서울특별시, 서울시 ========== 29°F 서울특별시 서울시 29° 서울특별시, 서울시 날씨 오늘 WinterCast 지역 {stormName} 추적기 시간별 일별 레이더 MinuteCast 월 대기질 건강 및 활동 오늘시간별 ---일별 레이더 MinuteCast 월 대기질 건강 및 활동 To view this video please enable JavaScript, and consider upgrading to a web browser that supports HTML5video Video Player is loading. Current Time\\xa00:00 Loaded: 0% Seek to live, currently behind liveLIVE descriptions off, selected subtitles settings, opens subtitles settings dialog subtitles off, selected Beginning of dialog window. Text BackgroundColorOpacity Close Modal DialogEnd of dialog window. 전 세계 아시아 대한민국 서울시 서울특별시 이용 약관 | 개인정보 보호정책 | 쿠키 사용 정책 | 내 데이터 판매 금지  확인 귀하의 데이터 판매 안함 개인정보 보호정책과 쿠키 사용 정책이 업데이트되었습니다.\", \"score\": 0.685971, \"raw_content\": null}, {\"title\": \"서울특별시 일기예보 및 날씨 - The Weather Channel | Weather.com\", \"url\": \"https://weather.com/ko-KR/weather/today/l/82e46175f97c224acf6b95afc4934fbae0e4ba123adcee8a52b7be97c303467b\", \"content\": \"서울특별시 일기예보 및 날씨 - The Weather Channel | Weather.com 알제리 | العربية알제리 | Français앙골라 | Português베냉 | Français부르키나파소 | Français부룬디 | Français카메룬 | Français카메룬 | English카보베르데 | Português중앙 아프리카 공화국 | Français차드 | Français차드 | العربية코모로 | Français코모로 | العربيةDemocratic Republic of the Congo | Français콩고 공화국 | Français코트디부아르 | Français지부티 | Français지부티 | العربية이집트 | العربية적도 기니 | Español에리트레아 | العربية가봉 | Français감비아 | English가나 | English기니 | Français기니비사우 | Português케냐 | English레소토 | English라이베리아 | English리비아 | العربية마다가스카르 | Français말리 | Français모리타니 | العربية모리셔스 | English모리셔스 | Français모로코 | العربية모로코 | Français모잠비크 | Português나미비아 | English니제르 | Français나이지리아 | English르완다 | Français르완다 | English상투메 프린시페 | Português세네갈 | Français시에라리온 | English소말리아 | العربية남아프리카 | English남수단 | English수단 | العربية스와질란드 | English탄자니아 | English토고 | Français튀니지 | العربية우간다 | English 1° --/-10° -9° ### 18:00 0° 강수확률4% ### 19:00 -2° 강수확률1% ### 20:00 -3° 강수확률1% ### 21:00 -4° 강수확률2%\", \"score\": 0.6551821, \"raw_content\": null}, {\"title\": \"날씨 서울 오늘 시간별 | freemeteo.kr\", \"url\": \"https://freemeteo.kr/weather/seoul/hourly-forecast/today/?gid=1835848&language=korean&country=south-korea\", \"content\": \"| Ahyŏn-dong | 오늘 | 내일 | 7일 | 27m | n/a | | Ahyŏni-dong | 오늘 | 내일 | 7일 | 47m | n/a | | Ahyŏnil-tong | 오늘 | 내일 | 7일 | 65m | n/a | | Ahyŏnsam-dong | 오늘 | 내일 | 7일 | 47m | n/a | | Amsai-dong | 오늘 | 내일 | 7일 | 1m | n/a | | Amsasa-dong | 오늘 | 내일 | 7일 | 26m | n/a | | Amsasam-dong | 오늘 | 내일 | 7일 | 23m | n/a | | Anam-dong | 오늘 | 내일 | 7일 | 37m | n/a | | Apkujŏng-dong | 오늘 | 내일 | 7일 | 23m | n/a |\", \"score\": 0.6366926, \"raw_content\": null}, {\"title\": \"네이버 날씨 홈\", \"url\": \"https://weather.naver.com/\", \"content\": \"NAVER 날씨 예) 19시는 19시 정시 기온 예) 19시는 19시 정시 기준 풍향과 풍속 예) 19시는 19시 정시 기준 습도 1mm 이하 5mm 이하 10mm 이하 20mm 이하 50mm 이하 천리안위성 2A호(GEO-KOMPSAT-2A)의 관측 자료를 최대 120분 범위로 제공합니다. 이를 통해 태풍 중심위치, 집중호우 탐지, 산불, 황사 등 다양한 관측 정보를 제공합니다. 전국에 설치된 기상레이더의 관측 정보를 최대 120분 범위로 제공합니다. 관측 강수량 정보기상청이 제공하는 관측 강수량 자료를 제공합니다. 최근 1시간 강수량 : 매 10분 기준, 과거 1시간 동안 내린 비의 양을 의미합니다. 1시간 누적 강수량 : 매 정시 기준, 과거 1시간 동안 내린 비의 양을 의미합니다. 일 누적 강수량 : 하루 동안(00시~24시) 내린 비의 양을 의미합니다. 읍・면・동 강수량 기준 : 전국에 분포한 기상청 측정소의 관측 자료를, 인접한 읍・면・동에 반영해 제공합니다.\", \"score\": 0.3069117, \"raw_content\": null}, {\"title\": \"홈 - 기상청 날씨누리\", \"url\": \"https://www.weather.go.kr/w/index.do\", \"content\": \"개편된 날씨누리 홈페이지 첫 화면에서 지도를 통한 실시간 기상정보와 레이더영상, 전국 특보 현황을 조회할 수 있으며, 내 지역의 현재 기상상황과 대기질 상태, 일출/일몰 시각을 확인할 수 있습니다. 바다날씨를 조회하고자 하는 경우, \\'날씨누리 바다>바다예보>일일예보\\' 페이지에서 해역을 선택하여 해역별 바다날씨를 확인할 수 있습니다. 현재 위치 설정 혹은 검색을 통해 조회한 육상지역 및 해역은 위치 정보 우측의 별표를 클릭하여 관심지역으로 설정할 수 있으며, 관심지역 설정 해제 또한 별표를 다시 클릭하여 해제할 수 있습니다. 설정한 관심지역은 현재 위치 정보 우측의 화살표를 클릭하여 확인할 수 있으며, 사용중인 브라우저 캐시 영역에 저장되므로 캐시 삭제시 설정한 관심지역 정보가 초기화됩니다.\\\\\" 첫 화면 상단의 톱니바퀴 아이콘을 클릭하여 날씨누리 홈페이지 첫 화면(기본화면, 지도화면) 및 풍속단위(m/s, km/h)를 맞춤 설정할 수 있습니다. 날씨누리 첫화면에서 육상 및 해상의 현재 기상정보, 초단기 강수예측, 특보 상황을 지도상에서 확인할 수 있습니다.\", \"score\": 0.20707074, \"raw_content\": null}], \"response_time\": 1.75}', name='search', id='3ecc4b06-123f-4a0b-83d5-2ea2c8b612d1', tool_call_id='call_75S8BGWDCzHxk8ov3HqAxuIt'),\n",
              " ToolMessage(content='{\"query\": \"서울 내일 날씨\", \"follow_up_questions\": null, \"answer\": null, \"images\": [], \"results\": [{\"title\": \"날씨 서울 내일 시간별| freemeteo.kr\", \"url\": \"https://freemeteo.kr/weather/seoul/hourly-forecast/tomorrow/?gid=1835848&language=korean&country=south-korea\", \"content\": \"서울 - 내일 날씨, 시간별 2025-03-11 위도: 37.57 | 경도: 126.98 | 고도에 대한 예보: 46m | 서울, 내일 시간별 날씨 화요일 11 3월 2025\", \"score\": 0.84858394, \"raw_content\": null}, {\"title\": \"서울특별시 일기예보 및 날씨 - The Weather Channel | Weather.com\", \"url\": \"https://weather.com/ko-KR/weather/today/l/82e46175f97c224acf6b95afc4934fbae0e4ba123adcee8a52b7be97c303467b\", \"content\": \"서울특별시 일기예보 및 날씨 - The Weather Channel | Weather.com 알제리 | العربية알제리 | Français앙골라 | Português베냉 | Français부르키나파소 | Français부룬디 | Français카메룬 | Français카메룬 | English카보베르데 | Português중앙 아프리카 공화국 | Français차드 | Français차드 | العربية코모로 | Français코모로 | العربيةDemocratic Republic of the Congo | Français콩고 공화국 | Français코트디부아르 | Français지부티 | Français지부티 | العربية이집트 | العربية적도 기니 | Español에리트레아 | العربية가봉 | Français감비아 | English가나 | English기니 | Français기니비사우 | Português케냐 | English레소토 | English라이베리아 | English리비아 | العربية마다가스카르 | Français말리 | Français모리타니 | العربية모리셔스 | English모리셔스 | Français모로코 | العربية모로코 | Français모잠비크 | Português나미비아 | English니제르 | Français나이지리아 | English르완다 | Français르완다 | English상투메 프린시페 | Português세네갈 | Français시에라리온 | English소말리아 | العربية남아프리카 | English남수단 | English수단 | العربية스와질란드 | English탄자니아 | English토고 | Français튀니지 | العربية우간다 | English 1° --/-10° -9° ### 18:00 0° 강수확률4% ### 19:00 -2° 강수확률1% ### 20:00 -3° 강수확률1% ### 21:00 -4° 강수확률2%\", \"score\": 0.6202772, \"raw_content\": null}, {\"title\": \"서울특별시, 서울시, 대한민국 시간별 날씨 | AccuWeather\", \"url\": \"https://www.accuweather.com/ko/kr/seoul/226081/hourly-weather-forecast/226081\", \"content\": \"서울특별시, 서울시, 대한민국 시간별 날씨 | AccuWeather 서울특별시, 서울시 ========== 29°F 서울특별시 서울시 29° 서울특별시, 서울시 날씨 오늘 WinterCast 지역 {stormName} 추적기 시간별 일별 레이더 MinuteCast 월 대기질 건강 및 활동 오늘시간별 ---일별 레이더 MinuteCast 월 대기질 건강 및 활동 To view this video please enable JavaScript, and consider upgrading to a web browser that supports HTML5video Video Player is loading. Current Time\\xa00:00 Loaded: 0% Seek to live, currently behind liveLIVE descriptions off, selected subtitles settings, opens subtitles settings dialog subtitles off, selected Beginning of dialog window. Text BackgroundColorOpacity Close Modal DialogEnd of dialog window. 전 세계 아시아 대한민국 서울시 서울특별시 이용 약관 | 개인정보 보호정책 | 쿠키 사용 정책 | 내 데이터 판매 금지  확인 귀하의 데이터 판매 안함 개인정보 보호정책과 쿠키 사용 정책이 업데이트되었습니다.\", \"score\": 0.5191075, \"raw_content\": null}, {\"title\": \"네이버 날씨 홈\", \"url\": \"https://weather.naver.com/\", \"content\": \"NAVER 날씨 예) 19시는 19시 정시 기온 예) 19시는 19시 정시 기준 풍향과 풍속 예) 19시는 19시 정시 기준 습도 1mm 이하 5mm 이하 10mm 이하 20mm 이하 50mm 이하 천리안위성 2A호(GEO-KOMPSAT-2A)의 관측 자료를 최대 120분 범위로 제공합니다. 이를 통해 태풍 중심위치, 집중호우 탐지, 산불, 황사 등 다양한 관측 정보를 제공합니다. 전국에 설치된 기상레이더의 관측 정보를 최대 120분 범위로 제공합니다. 관측 강수량 정보기상청이 제공하는 관측 강수량 자료를 제공합니다. 최근 1시간 강수량 : 매 10분 기준, 과거 1시간 동안 내린 비의 양을 의미합니다. 1시간 누적 강수량 : 매 정시 기준, 과거 1시간 동안 내린 비의 양을 의미합니다. 일 누적 강수량 : 하루 동안(00시~24시) 내린 비의 양을 의미합니다. 읍・면・동 강수량 기준 : 전국에 분포한 기상청 측정소의 관측 자료를, 인접한 읍・면・동에 반영해 제공합니다.\", \"score\": 0.24178061, \"raw_content\": null}, {\"title\": \"홈 - 기상청 날씨누리\", \"url\": \"https://www.weather.go.kr/\", \"content\": \"○ (강수) 12일(수)은 전국에 비 또는 눈이 내리겠고, 15일(토)은 제주도에 비가 오겠습니다. 개편된 날씨누리 홈페이지 첫 화면에서 지도를 통한 실시간 기상정보와 레이더영상, 전국 특보 현황을 조회할 수 있으며, 내 지역의 현재 기상상황과 대기질 상태, 일출/일몰 시각을 확인할 수 있습니다. 현재 위치 설정 혹은 검색을 통해 조회한 육상지역 및 해역은 위치 정보 우측의 별표를 클릭하여 관심지역으로 설정할 수 있으며, 관심지역 설정 해제 또한 별표를 다시 클릭하여 해제할 수 있습니다. 설정한 관심지역은 현재 위치 정보 우측의 화살표를 클릭하여 확인할 수 있으며, 사용중인 브라우저 캐시 영역에 저장되므로 캐시 삭제시 설정한 관심지역 정보가 초기화됩니다.\\\\\" 첫 화면 상단의 톱니바퀴 아이콘을 클릭하여 날씨누리 홈페이지 첫 화면(기본화면, 지도화면) 및 풍속단위(m/s, km/h)를 맞춤 설정할 수 있습니다. 날씨누리 첫화면에서 육상 및 해상의 현재 기상정보, 초단기 강수예측, 특보 상황을 지도상에서 확인할 수 있습니다.\", \"score\": 0.18821983, \"raw_content\": null}], \"response_time\": 1.32}', name='search', id='38398d75-4291-4bd6-9fc3-d2882bdf2162', tool_call_id='call_DihrUQ1Rn3IoXS6fJDXuNnbM'),\n",
              " AIMessage(content='서울의 오늘 날씨는 다음과 같습니다. [AccuWeather](https://www.accuweather.com/ko/kr/seoul/226081/hourly-weather-forecast/226081)와 [The Weather Channel](https://weather.com/ko-KR/weather/today/l/82e46175f97c224acf6b95afc4934fbae0e4ba123adcee8a52b7be97c303467b)를 참조하시면, 시간대별로 자세한 기온과 강수 확률 등을 확인할 수 있습니다. \\n\\n내일 서울의 날씨에 대해서는 [Free Meteo](https://freemeteo.kr/weather/seoul/hourly-forecast/tomorrow/?gid=1835848&language=korean&country=south-korea)에서 시간대별 예보를 확인할 수 있습니다. 이 사이트에서는 내일의 기온, 강수 확률 등 주간 및 시간별로 구분된 기상 정보를 제공합니다.', additional_kwargs={'refusal': None}, response_metadata={'token_usage': {'completion_tokens': 211, 'prompt_tokens': 14385, 'total_tokens': 14596, 'completion_tokens_details': {'accepted_prediction_tokens': 0, 'audio_tokens': 0, 'reasoning_tokens': 0, 'rejected_prediction_tokens': 0}, 'prompt_tokens_details': {'audio_tokens': 0, 'cached_tokens': 3840}}, 'model_name': 'gpt-4o-2024-08-06', 'system_fingerprint': 'fp_eb9dce56a8', 'finish_reason': 'stop', 'logprobs': None}, name='Tagent', id='run-3ad1c0c4-fdb5-4cb6-9429-1e2799335221-0', usage_metadata={'input_tokens': 14385, 'output_tokens': 211, 'total_tokens': 14596, 'input_token_details': {'audio': 0, 'cache_read': 3840}, 'output_token_details': {'audio': 0, 'reasoning': 0}}),\n",
              " HumanMessage(content='인터넷에서 찾아줘', additional_kwargs={}, response_metadata={}, id='9566d52f-6081-42ef-9333-f962c858278f'),\n",
              " AIMessage(content='', additional_kwargs={'tool_calls': [{'id': 'call_clCeIow2FVWRtRepO7zolyKf', 'function': {'arguments': '{\"query\": \"서울 오늘 날씨 최신 업데이트\"}', 'name': 'search'}, 'type': 'function'}, {'id': 'call_aiHuqZkFAQ7YvFpIGA2DOSSg', 'function': {'arguments': '{\"query\": \"서울 내일 날씨 최신 업데이트\"}', 'name': 'search'}, 'type': 'function'}], 'refusal': None}, response_metadata={'token_usage': {'completion_tokens': 54, 'prompt_tokens': 14610, 'total_tokens': 14664, 'completion_tokens_details': {'accepted_prediction_tokens': 0, 'audio_tokens': 0, 'reasoning_tokens': 0, 'rejected_prediction_tokens': 0}, 'prompt_tokens_details': {'audio_tokens': 0, 'cached_tokens': 14336}}, 'model_name': 'gpt-4o-2024-08-06', 'system_fingerprint': 'fp_eb9dce56a8', 'finish_reason': 'tool_calls', 'logprobs': None}, name='Tagent', id='run-445e4094-209a-4f15-b0d1-cf221f75aa89-0', tool_calls=[{'name': 'search', 'args': {'query': '서울 오늘 날씨 최신 업데이트'}, 'id': 'call_clCeIow2FVWRtRepO7zolyKf', 'type': 'tool_call'}, {'name': 'search', 'args': {'query': '서울 내일 날씨 최신 업데이트'}, 'id': 'call_aiHuqZkFAQ7YvFpIGA2DOSSg', 'type': 'tool_call'}], usage_metadata={'input_tokens': 14610, 'output_tokens': 54, 'total_tokens': 14664, 'input_token_details': {'audio': 0, 'cache_read': 14336}, 'output_token_details': {'audio': 0, 'reasoning': 0}}),\n",
              " ToolMessage(content='{\"query\": \"서울 오늘 날씨 최신 업데이트\", \"follow_up_questions\": null, \"answer\": null, \"images\": [], \"results\": [{\"title\": \"날씨 서울 오늘 시간별 | freemeteo.kr\", \"url\": \"https://freemeteo.kr/weather/seoul/hourly-forecast/today/?gid=1835848&language=korean&country=south-korea\", \"content\": \"| Ahyŏn-dong | 오늘 | 내일 | 7일 | 27m | n/a | | Ahyŏni-dong | 오늘 | 내일 | 7일 | 47m | n/a | | Ahyŏnil-tong | 오늘 | 내일 | 7일 | 65m | n/a | | Ahyŏnsam-dong | 오늘 | 내일 | 7일 | 47m | n/a | | Amsai-dong | 오늘 | 내일 | 7일 | 1m | n/a | | Amsasa-dong | 오늘 | 내일 | 7일 | 26m | n/a | | Amsasam-dong | 오늘 | 내일 | 7일 | 23m | n/a | | Anam-dong | 오늘 | 내일 | 7일 | 37m | n/a | | Apkujŏng-dong | 오늘 | 내일 | 7일 | 23m | n/a |\", \"score\": 0.55623144, \"raw_content\": null}, {\"title\": \"서울특별시, 서울시, 대한민국 시간별 날씨 | AccuWeather\", \"url\": \"https://www.accuweather.com/ko/kr/seoul/226081/hourly-weather-forecast/226081\", \"content\": \"서울특별시, 서울시, 대한민국 시간별 날씨 | AccuWeather 서울특별시, 서울시 ========== 29°F 서울특별시 서울시 29° 서울특별시, 서울시 날씨 오늘 WinterCast 지역 {stormName} 추적기 시간별 일별 레이더 MinuteCast 월 대기질 건강 및 활동 오늘시간별 ---일별 레이더 MinuteCast 월 대기질 건강 및 활동 To view this video please enable JavaScript, and consider upgrading to a web browser that supports HTML5video Video Player is loading. Current Time\\xa00:00 Loaded: 0% Seek to live, currently behind liveLIVE descriptions off, selected subtitles settings, opens subtitles settings dialog subtitles off, selected Beginning of dialog window. Text BackgroundColorOpacity Close Modal DialogEnd of dialog window. 전 세계 아시아 대한민국 서울시 서울특별시 이용 약관 | 개인정보 보호정책 | 쿠키 사용 정책 | 내 데이터 판매 금지  확인 귀하의 데이터 판매 안함 개인정보 보호정책과 쿠키 사용 정책이 업데이트되었습니다.\", \"score\": 0.5513086, \"raw_content\": null}, {\"title\": \"서울특별시 일기예보 및 날씨 - The Weather Channel | Weather.com\", \"url\": \"https://weather.com/ko-KR/weather/today/l/18e81cdf57491c51a6fba3c57732b7b61bdf511fc2b613570316978b9f20687a\", \"content\": \"서울특별시 일기예보 및 날씨 - The Weather Channel | Weather.com 알제리 | العربية알제리 | Français앙골라 | Português베냉 | Français부르키나파소 | Français부룬디 | Français카메룬 | Français카메룬 | English카보베르데 | Português중앙 아프리카 공화국 | Français차드 | Français차드 | العربية코모로 | Français코모로 | العربيةDemocratic Republic of the Congo | Français콩고 공화국 | Français코트디부아르 | Français지부티 | Français지부티 | العربية이집트 | العربية적도 기니 | Español에리트레아 | العربية가봉 | Français감비아 | English가나 | English기니 | Français기니비사우 | Português케냐 | English레소토 | English라이베리아 | English리비아 | العربية마다가스카르 | Français말리 | Français모리타니 | العربية모리셔스 | English모리셔스 | Français모로코 | العربية모로코 | Français모잠비크 | Português나미비아 | English니제르 | Français나이지리아 | English르완다 | Français르완다 | English상투메 프린시페 | Português세네갈 | Français시에라리온 | English소말리아 | العربية남아프리카 | English남수단 | English수단 | العربية스와질란드 | English탄자니아 | English토고 | Français튀니지 | العربية우간다 | English\", \"score\": 0.45348024, \"raw_content\": null}, {\"title\": \"홈 - 기상청 날씨누리\", \"url\": \"https://www.weather.go.kr/weather/main.jsp\", \"content\": \"o 한파주의보 : 경기도(과천, 김포, 고양, 의정부, 수원, 성남, 구리, 하남, 용인, 이천, 안성, 광주), 충청북도(청주, 보은, 옥천, 영동, 진천, 증평), 전북자치도(완주, 무주, 장수, 순창, 익산, 남원), 경상북도(고령, 성주, 상주, 문경, 예천, 안동, 의성, 청송, 영양평지), 경상남도(함안, 창녕, 거창), 서울(서울동북권, 서울서북권), 인천(강화), 대구(군위) o 건조주의보 : 경상북도(울진평지, 포항), 경상남도(양산, 창원, 김해, 밀양, 창녕), 부산, 울산 개편된 날씨누리 홈페이지 첫 화면에서 지도를 통한 실시간 기상정보와 레이더영상, 전국 특보 현황을 조회할 수 있으며, 내 지역의 현재 기상상황과 대기질 상태, 일출/일몰 시각을 확인할 수 있습니다. 현재 위치 설정 혹은 검색을 통해 조회한 육상지역 및 해역은 위치 정보 우측의 별표를 클릭하여 관심지역으로 설정할 수 있으며, 관심지역 설정 해제 또한 별표를 다시 클릭하여 해제할 수 있습니다. 날씨누리 첫화면에서 육상 및 해상의 현재 기상정보, 초단기 강수예측, 특보 상황을 지도상에서 확인할 수 있습니다.\", \"score\": 0.29141974, \"raw_content\": null}, {\"title\": \"네이버 날씨 홈\", \"url\": \"https://weather.naver.com/\", \"content\": \"NAVER 날씨 예) 19시는 19시 정시 기온 예) 19시는 19시 정시 기준 풍향과 풍속 예) 19시는 19시 정시 기준 습도 1mm 이하 5mm 이하 10mm 이하 20mm 이하 50mm 이하 천리안위성 2A호(GEO-KOMPSAT-2A)의 관측 자료를 최대 120분 범위로 제공합니다. 이를 통해 태풍 중심위치, 집중호우 탐지, 산불, 황사 등 다양한 관측 정보를 제공합니다. 전국에 설치된 기상레이더의 관측 정보를 최대 120분 범위로 제공합니다. 관측 강수량 정보기상청이 제공하는 관측 강수량 자료를 제공합니다. 최근 1시간 강수량 : 매 10분 기준, 과거 1시간 동안 내린 비의 양을 의미합니다. 1시간 누적 강수량 : 매 정시 기준, 과거 1시간 동안 내린 비의 양을 의미합니다. 일 누적 강수량 : 하루 동안(00시~24시) 내린 비의 양을 의미합니다. 읍・면・동 강수량 기준 : 전국에 분포한 기상청 측정소의 관측 자료를, 인접한 읍・면・동에 반영해 제공합니다.\", \"score\": 0.27279803, \"raw_content\": null}], \"response_time\": 1.32}', name='search', id='73bff441-b98e-4ac6-b25c-c1229a0ce551', tool_call_id='call_clCeIow2FVWRtRepO7zolyKf'),\n",
              " ToolMessage(content='{\"query\": \"서울 내일 날씨 최신 업데이트\", \"follow_up_questions\": null, \"answer\": null, \"images\": [], \"results\": [{\"title\": \"서울특별시 일기예보 및 날씨 - The Weather Channel | Weather.com\", \"url\": \"https://weather.com/ko-KR/weather/today/l/dcc67ddf015a546a905e781b75a39dd66381a1182af289ffe8c8b43ba0feafd6\", \"content\": \"내일: 눈. 지난 24시간. 7 cm. 다음 12시간 < 2 cm. 다음 24시간 < 2 cm. 다음 48시간 < 2 cm. 서울특별시 날씨 예보\", \"score\": 0.6685563, \"raw_content\": null}, {\"title\": \"날씨 서울 내일 시간별| freemeteo.kr\", \"url\": \"https://freemeteo.kr/weather/seoul/hourly-forecast/tomorrow/?gid=1835848&language=korean&country=south-korea\", \"content\": \"서울 날씨 시간별 주말 라이브 위성 이미지 오늘 내일 금요일 토요일 일요일 월요일 서울 - 내일 날씨, 시간별 2025-02-20 서울, 내일 시간별 날씨 날씨   기온  -4°C    -3°C    -1°C    1°C -1°C    -3°C    -3°C    -3°C 상대 기온   -10°C   -10°C   -7°C    -6°C    -7°C    -10°C   -10°C   -11°C 상대 습도   41% 39% 29% 23% 26% 36% 38% 41% 주말  7/1/2014 12:00:00 πμ    메테오그램   지도  라이브 위성 이미지 라이브 위성 이미지 Freemeteo 호텔 예약 >>\\xa0서울 Hotels 오늘 밤: -3°C 목요일: 1°C 금요일: 0°C 토요일: 0°C 일요일: 0°C 월요일: 4°C New Kukje Hotel 서울(으)로부터 0.0km Best Western New Seoul Hotel 서울(으)로부터 0.0km Koreana Hotel 서울(으)로부터 0.1km 서울(으)로부터 0.4km 시간별 예보  오늘  주말  7일  메테오그램   라이브 위성 이미지 서울 날씨 서울: 인근 지역\", \"score\": 0.64128816, \"raw_content\": null}, {\"title\": \"서울특별시 일기예보 및 날씨 - The Weather Channel | Weather.com\", \"url\": \"https://weather.com/ko-KR/weather/today/l/82e46175f97c224acf6b95afc4934fbae0e4ba123adcee8a52b7be97c303467b\", \"content\": \"서울특별시 일기예보 및 날씨 - The Weather Channel | Weather.com 알제리 | العربية알제리 | Français앙골라 | Português베냉 | Français부르키나파소 | Français부룬디 | Français카메룬 | Français카메룬 | English카보베르데 | Português중앙 아프리카 공화국 | Français차드 | Français차드 | العربية코모로 | Français코모로 | العربيةDemocratic Republic of the Congo | Français콩고 공화국 | Français코트디부아르 | Français지부티 | Français지부티 | العربية이집트 | العربية적도 기니 | Español에리트레아 | العربية가봉 | Français감비아 | English가나 | English기니 | Français기니비사우 | Português케냐 | English레소토 | English라이베리아 | English리비아 | العربية마다가스카르 | Français말리 | Français모리타니 | العربية모리셔스 | English모리셔스 | Français모로코 | العربية모로코 | Français모잠비크 | Português나미비아 | English니제르 | Français나이지리아 | English르완다 | Français르완다 | English상투메 프린시페 | Português세네갈 | Français시에라리온 | English소말리아 | العربية남아프리카 | English남수단 | English수단 | العربية스와질란드 | English탄자니아 | English토고 | Français튀니지 | العربية우간다 | English 1° --/-10° -9° ### 18:00 0° 강수확률4% ### 19:00 -2° 강수확률1% ### 20:00 -3° 강수확률1% ### 21:00 -4° 강수확률2%\", \"score\": 0.52962893, \"raw_content\": null}, {\"title\": \"내일 서울특별시 날씨 - Meteocast\", \"url\": \"https://ko.meteocast.net/tomorrow-forecast/kr/seoul/\", \"content\": \"0에서 2까지의 uv 지수는 평균적인 사람의 태양 광선으로부터의 위험이 낮음을 의미합니다. 밝은 날에는 선글라스를 착용하십시오.\", \"score\": 0.43496582, \"raw_content\": null}, {\"title\": \"홈 - 기상청 날씨누리\", \"url\": \"https://www.weather.go.kr/w/index.do?title=0&autoplay=1&byline=0&portrait=0\", \"content\": \"서울 (07062) 서울특별시 동작구 여의대방로16길 61. 전화 (02)2181-0900, (042)481-7500 | 전자우편(웹사이트 관련 문의): webmasterkma@korea.kr ... 날씨누리에서는 날씨정보 업데이트 시각은 정보의 종류에 따라 다르며 업데이트 시각 정보는 데이터의 근처 혹은 페이지 하단에\", \"score\": 0.34415737, \"raw_content\": null}], \"response_time\": 1.58}', name='search', id='6be65009-1b82-4145-94d3-66846b9c0df0', tool_call_id='call_aiHuqZkFAQ7YvFpIGA2DOSSg'),\n",
              " AIMessage(content='서울의 오늘과 내일의 날씨는 다음과 같습니다:\\n\\n- [서울 오늘의 날씨 - AccuWeather](https://www.accuweather.com/ko/kr/seoul/226081/hourly-weather-forecast/226081): 현재 기온은 약 29°F(약 -1.7°C)이며, 시간대별로 강수 확률 등 자세한 정보를 제공합니다.\\n\\n- [서울 내일의 날씨 - The Weather Channel](https://weather.com/ko-KR/weather/today/l/dcc67ddf015a546a905e781b75a39dd66381a1182af289ffe8c8b43ba0feafd6): 내일은 최고 기온이 2°C까지 오르고 낮은 기온은 -3°C가 될 것으로 예상됩니다. 상세한 시간대별 예보를 확인하실 수 있습니다.\\n\\n각 사이트를 방문하셔서 최신 업데이트와 추가 정보를 확인하세요!', additional_kwargs={'refusal': None}, response_metadata={'token_usage': {'completion_tokens': 202, 'prompt_tokens': 23446, 'total_tokens': 23648, 'completion_tokens_details': {'accepted_prediction_tokens': 0, 'audio_tokens': 0, 'reasoning_tokens': 0, 'rejected_prediction_tokens': 0}, 'prompt_tokens_details': {'audio_tokens': 0, 'cached_tokens': 0}}, 'model_name': 'gpt-4o-2024-08-06', 'system_fingerprint': 'fp_eb9dce56a8', 'finish_reason': 'stop', 'logprobs': None}, name='Tagent', id='run-57bc8887-f2a3-4769-b099-52093d9e036c-0', usage_metadata={'input_tokens': 23446, 'output_tokens': 202, 'total_tokens': 23648, 'input_token_details': {'audio': 0, 'cache_read': 0}, 'output_token_details': {'audio': 0, 'reasoning': 0}})]"
            ]
          },
          "execution_count": 10,
          "metadata": {},
          "output_type": "execute_result"
        }
      ],
      "source": [
        "turn['messages']"
      ]
    },
    {
      "cell_type": "code",
      "execution_count": null,
      "metadata": {
        "id": "mL5quYXi8L0-"
      },
      "outputs": [],
      "source": []
    }
  ],
  "metadata": {
    "colab": {
      "provenance": []
    },
    "kernelspec": {
      "display_name": ".venv",
      "language": "python",
      "name": "python3"
    },
    "language_info": {
      "codemirror_mode": {
        "name": "ipython",
        "version": 3
      },
      "file_extension": ".py",
      "mimetype": "text/x-python",
      "name": "python",
      "nbconvert_exporter": "python",
      "pygments_lexer": "ipython3",
      "version": "3.12.9"
    }
  },
  "nbformat": 4,
  "nbformat_minor": 0
}
