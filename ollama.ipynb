{
 "cells": [
  {
   "cell_type": "code",
   "execution_count": 1,
   "metadata": {},
   "outputs": [
    {
     "data": {
      "text/plain": [
       "True"
      ]
     },
     "execution_count": 1,
     "metadata": {},
     "output_type": "execute_result"
    }
   ],
   "source": [
    "from dotenv import load_dotenv\n",
    "\n",
    "load_dotenv()"
   ]
  },
  {
   "cell_type": "code",
   "execution_count": 2,
   "metadata": {},
   "outputs": [],
   "source": [
    "texts = [\n",
    "    \"안녕, 만나서 반가워.\",\n",
    "    \"LangChain simplifies the process of building applications with large language models\",\n",
    "    \"랭체인 한국어 튜토리얼은 LangChain의 공식 문서, cookbook 및 다양한 실용 예제를 바탕으로 하여 사용자가 LangChain을 더 쉽고 효과적으로 활용할 수 있도록 구성되어 있습니다. \",\n",
    "    \"LangChain은 초거대 언어모델로 애플리케이션을 구축하는 과정을 단순화합니다.\",\n",
    "    \"Retrieval-Augmented Generation (RAG) is an effective technique for improving AI responses.\",\n",
    "]"
   ]
  },
  {
   "cell_type": "code",
   "execution_count": 3,
   "metadata": {},
   "outputs": [],
   "source": [
    "from langchain_ollama import OllamaEmbeddings\n",
    "\n",
    "ollama_embeddings = OllamaEmbeddings(\n",
    "    model=\"nomic-embed-text\",\n",
    "    # model=\"chatfire/bge-m3:q8_0\" # BGE-M3\n",
    ")"
   ]
  },
  {
   "cell_type": "code",
   "execution_count": 4,
   "metadata": {},
   "outputs": [
    {
     "name": "stdout",
     "output_type": "stream",
     "text": [
      "768\n"
     ]
    }
   ],
   "source": [
    "# 쿼리 임베딩\n",
    "embedded_query = ollama_embeddings.embed_query(\"LangChain 에 대해서 상세히 알려주세요.\")\n",
    "# 임베딩 차원 출력\n",
    "if embedded_query:  # ✅ None 체크\n",
    "    print(len(embedded_query))\n",
    "else:\n",
    "    print(\"❌ 임베딩 결과가 없습니다. 모델이 올바르게 로드되었는지 확인하세요.\")"
   ]
  },
  {
   "cell_type": "code",
   "execution_count": 5,
   "metadata": {},
   "outputs": [],
   "source": [
    "from typing import Annotated\n",
    "\n",
    "from typing_extensions import TypedDict\n",
    "\n",
    "from langgraph.graph import StateGraph, START, END\n",
    "from langgraph.graph.message import add_messages\n",
    "\n",
    "\n",
    "class State(TypedDict):\n",
    "    # Messages have the type \"list\". The `add_messages` function\n",
    "    # in the annotation defines how this state key should be updated\n",
    "    # (in this case, it appends messages to the list, rather than overwriting them)\n",
    "    messages: Annotated[list, add_messages]\n",
    "\n",
    "\n",
    "graph_builder = StateGraph(State)"
   ]
  },
  {
   "cell_type": "code",
   "execution_count": 6,
   "metadata": {},
   "outputs": [
    {
     "data": {
      "text/plain": [
       "<langgraph.graph.state.StateGraph at 0x10f2675f0>"
      ]
     },
     "execution_count": 6,
     "metadata": {},
     "output_type": "execute_result"
    }
   ],
   "source": [
    "from langchain_ollama import OllamaLLM\n",
    "\n",
    "# Ollama 모델 지정\n",
    "llm = OllamaLLM(model=\"gemma3\")  # 사용할 모델 (예: \"phi\", \"mistral\", \"llama3\")\n",
    "\n",
    "# 챗봇 함수 정의\n",
    "def chatbot(state: State):\n",
    "    return {\"messages\": [llm.invoke(state[\"messages\"])]}\n",
    "\n",
    "# 그래프에 챗봇 노드 추가\n",
    "graph_builder.add_node(\"chatbot\", chatbot)"
   ]
  },
  {
   "cell_type": "code",
   "execution_count": 7,
   "metadata": {},
   "outputs": [],
   "source": [
    "graph_builder.add_edge(START, \"chatbot\")\n",
    "graph_builder.add_edge(\"chatbot\", END)\n",
    "graph = graph_builder.compile()"
   ]
  },
  {
   "cell_type": "code",
   "execution_count": 8,
   "metadata": {},
   "outputs": [
    {
     "data": {
      "image/png": "[encoded data removed]",
      "text/plain": [
       "<IPython.core.display.Image object>"
      ]
     },
     "metadata": {},
     "output_type": "display_data"
    }
   ],
   "source": [
    "from IPython.display import Image, display\n",
    "\n",
    "try:\n",
    "    display(Image(graph.get_graph().draw_mermaid_png()))\n",
    "except Exception:\n",
    "    # This requires some extra dependencies and is optional\n",
    "    pass"
   ]
  },
  {
   "cell_type": "code",
   "execution_count": 15,
   "metadata": {},
   "outputs": [
    {
     "name": "stdout",
     "output_type": "stream",
     "text": [
      "{'messages': [HumanMessage(content='서울은 어느 나라 수도인가?', additional_kwargs={}, response_metadata={}, id='6ab739f9-2ce3-49cc-92c0-3de10f0d9d87'), HumanMessage(content='서울은 대한민국(Republic of Korea)의 수도입니다.', additional_kwargs={}, response_metadata={}, id='1076031a-edd9-4118-8c1c-5f75a72a68a9')]}\n"
     ]
    }
   ],
   "source": [
    "state = State(messages=[\"서울은 어느 나라 수도인가?\"])\n",
    "output = graph.invoke(state)\n",
    "print(output)"
   ]
  },
  {
   "cell_type": "code",
   "execution_count": 16,
   "metadata": {},
   "outputs": [
    {
     "name": "stdout",
     "output_type": "stream",
     "text": [
      "{'chatbot': {'messages': ['서울은 대한민국(Republic of Korea)의 수도입니다.']}}\n"
     ]
    }
   ],
   "source": [
    "for update in graph.stream(state):\n",
    "    print(update)"
   ]
  },
  {
   "cell_type": "code",
   "execution_count": null,
   "metadata": {},
   "outputs": [
    {
     "name": "stdout",
     "output_type": "stream",
     "text": [
      "안녕\n",
      "Assistant: 안녕하세요! (Annyeonghaseyo!) \n",
      "\n",
      "Hello! How can I help you today? 😊 \n",
      "\n",
      "(Translation: Hello! How can I help you today?)\n",
      "서울에서 부산까지의 거리는\n",
      "Assistant: 서울에서 부산까지의 거리는 대략 360~400km 정도입니다. \n",
      "\n",
      "*   **KTX (고속철도):** 약 2시간 30분 ~ 3시간 소요\n",
      "*   **자동차:** 고속도로를 이용하면 약 4~5시간 소요\n",
      "*   **버스:** 약 4시간 30분 ~ 5시간 소요\n",
      "\n",
      "정확한 거리는 경로에 따라 조금씩 다를 수 있습니다.\n",
      "알콜의 끓는 점은\n",
      "Assistant: 알코올(에탄올)의 끓는점은 약 78.3℃입니다. \n",
      "\n",
      "다만, 알코올의 종류(분자량)에 따라 끓는점이 조금씩 달라질 수 있습니다. 예를 들어, 아이소프로판올(메탄올)은 64.7℃에서 끓습니다.\n",
      "Goodbye!\n"
     ]
    }
   ],
   "source": [
    "def stream_graph_updates(user_input: str):\n",
    "    for event in graph.stream({\"messages\": [{\"role\": \"user\", \"content\": user_input}]}):\n",
    "        # 이벤트 구조: {'chatbot': {'messages': [메시지 내용]}}\n",
    "        if 'chatbot' in event and 'messages' in event['chatbot']:\n",
    "            messages = event['chatbot']['messages']\n",
    "            if messages and len(messages) > 0:\n",
    "                # 메시지가 문자열 목록인 경우\n",
    "                if isinstance(messages[-1], str):\n",
    "                    print(\"Assistant:\", messages[-1])\n",
    "                # 메시지가 딕셔너리인 경우 (role, content 포맷)\n",
    "                elif isinstance(messages[-1], dict) and 'content' in messages[-1]:\n",
    "                    print(\"Assistant:\", messages[-1]['content'])\n",
    "\n",
    "while True:\n",
    "    try:\n",
    "        user_input = input(\"User: \")\n",
    "        if user_input in [\"quit\", \"exit\", \"q\"]:\n",
    "            print(\"Goodbye!\")\n",
    "            break\n",
    "        print(\"===============================\")\n",
    "        print(user_input)\n",
    "        stream_graph_updates(user_input)\n",
    "    except Exception as e:\n",
    "        print(f\"⚠️ Error: {e}\")  # 에러 메시지 출력\n",
    "        # fallback if input() is not available\n",
    "        user_input = \"What do you know about LangGraph?\"\n",
    "        print(\"User: \" + user_input)\n",
    "        stream_graph_updates(user_input)\n",
    "        break"
   ]
  }
 ],
 "metadata": {
  "kernelspec": {
   "display_name": ".venv (3.12.9)",
   "language": "python",
   "name": "python3"
  },
  "language_info": {
   "codemirror_mode": {
    "name": "ipython",
    "version": 3
   },
   "file_extension": ".py",
   "mimetype": "text/x-python",
   "name": "python",
   "nbconvert_exporter": "python",
   "pygments_lexer": "ipython3",
   "version": "3.12.9"
  }
 },
 "nbformat": 4,
 "nbformat_minor": 2
}
