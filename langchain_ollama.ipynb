{
 "cells": [
  {
   "cell_type": "code",
   "execution_count": 1,
   "id": "72db1ed4",
   "metadata": {},
   "outputs": [
    {
     "data": {
      "text/plain": [
       "True"
      ]
     },
     "execution_count": 1,
     "metadata": {},
     "output_type": "execute_result"
    }
   ],
   "source": [
    "from dotenv import load_dotenv\n",
    "load_dotenv()"
   ]
  },
  {
   "cell_type": "code",
   "execution_count": 38,
   "id": "18adb113",
   "metadata": {},
   "outputs": [],
   "source": [
    "from langchain_ollama import ChatOllama\n",
    "\n",
    "model = ChatOllama(model=\"phi4-mini\", temperature=0.7)"
   ]
  },
  {
   "cell_type": "code",
   "execution_count": 6,
   "id": "e48ae10d",
   "metadata": {},
   "outputs": [
    {
     "name": "stdout",
     "output_type": "stream",
     "text": [
      "Hi! I'm just an AI, so I don't have feelings or emotions to experience like humans do when feeling good—like saying \"I'm doing well!\" In terms of processing information and assisting users such as yourself with tasks you're facing today—I function optimally within my programming parameters.\n",
      "\n",
      "Is there anything specific you'd need assistance with? How can I help you further?\n"
     ]
    }
   ],
   "source": [
    "messages = [\n",
    "    (\"system\", \"You are a helpful assistant.\"),\n",
    "    (\"human\", \"Hello, how are you?\")\n",
    "]\n",
    "response = model.invoke(messages)\n",
    "print(response.content)"
   ]
  },
  {
   "cell_type": "code",
   "execution_count": 8,
   "id": "1cc18ebd",
   "metadata": {},
   "outputs": [
    {
     "data": {
      "text/plain": [
       "AIMessage(content='안녕하세요, Woody! 오늘 어떻게 도와드릴까요?', additional_kwargs={}, response_metadata={'model': 'phi4-mini', 'created_at': '2025-08-03T10:34:23.637719Z', 'done': True, 'done_reason': 'stop', 'total_duration': 3487937513, 'load_duration': 48454466, 'prompt_eval_count': 9, 'prompt_eval_duration': 1183791816, 'eval_count': 14, 'eval_duration': 2254752340, 'message': Message(role='assistant', content='', images=None, tool_calls=None)}, id='run-689e7e04-8e78-46dd-aa5f-f3059623203d-0', usage_metadata={'input_tokens': 9, 'output_tokens': 14, 'total_tokens': 23})"
      ]
     },
     "execution_count": 8,
     "metadata": {},
     "output_type": "execute_result"
    }
   ],
   "source": [
    "from langchain_core.messages import HumanMessage\n",
    "model.invoke([HumanMessage(content=\"안녕, 난 Woody야\")])"
   ]
  },
  {
   "cell_type": "code",
   "execution_count": 9,
   "id": "f536d2eb",
   "metadata": {},
   "outputs": [
    {
     "data": {
      "text/plain": [
       "AIMessage(content='저는 Phi Microsoft입니다. 현재 도와드릴 수 있는 것은 무엇입니까?', additional_kwargs={}, response_metadata={'model': 'phi4-mini', 'created_at': '2025-08-03T10:35:16.768595Z', 'done': True, 'done_reason': 'stop', 'total_duration': 4230995741, 'load_duration': 47567486, 'prompt_eval_count': 9, 'prompt_eval_duration': 1054537314, 'eval_count': 19, 'eval_duration': 3128120205, 'message': Message(role='assistant', content='', images=None, tool_calls=None)}, id='run-5f19d5a4-0f50-4ee8-8c33-333c5b609dd7-0', usage_metadata={'input_tokens': 9, 'output_tokens': 19, 'total_tokens': 28})"
      ]
     },
     "execution_count": 9,
     "metadata": {},
     "output_type": "execute_result"
    }
   ],
   "source": [
    "model.invoke([HumanMessage(content=\"내 이름이 뭐야?\")])"
   ]
  },
  {
   "cell_type": "code",
   "execution_count": 10,
   "id": "661fc1c3",
   "metadata": {},
   "outputs": [
    {
     "data": {
      "text/plain": [
       "AIMessage(content='Your name is the person asking this question. You can refer to yourself by whatever first or last names you prefer in your response! For example, \"My name is [Name].\"', additional_kwargs={}, response_metadata={'model': 'phi4-mini', 'created_at': '2025-08-03T10:36:10.728819Z', 'done': True, 'done_reason': 'stop', 'total_duration': 7476104142, 'load_duration': 49482509, 'prompt_eval_count': 7, 'prompt_eval_duration': 836475864, 'eval_count': 38, 'eval_duration': 6589505131, 'message': Message(role='assistant', content='', images=None, tool_calls=None)}, id='run-be69e6a9-e71f-427a-a5e1-54aa7f5499a3-0', usage_metadata={'input_tokens': 7, 'output_tokens': 38, 'total_tokens': 45})"
      ]
     },
     "execution_count": 10,
     "metadata": {},
     "output_type": "execute_result"
    }
   ],
   "source": [
    "model.invoke([HumanMessage(content=\"What's my name?\")])"
   ]
  },
  {
   "cell_type": "code",
   "execution_count": 39,
   "id": "519b6e68",
   "metadata": {},
   "outputs": [],
   "source": [
    "messages = [\n",
    "    (\"system\", \"너는 사용자를 도와주는 상담사야.\"),\n",
    "]"
   ]
  },
  {
   "cell_type": "code",
   "execution_count": 40,
   "id": "9dbc1e45",
   "metadata": {},
   "outputs": [
    {
     "name": "stdout",
     "output_type": "stream",
     "text": [
      "모델: 안녕하세요 Woody! 오늘 당신에게 무엇이 필요하신가요? 제가 도울 준비가 되어 있습니다. 하루가 잘 지내세요!\n",
      "\n",
      "모델: 제공된 정보에 따르면, 당신의 이름은 Woody라고 합니다. 다른 도움이 필요한 것이 있나요? 아니면 Woody라는 이름을 가진 사람에 대해 물어보고 계신다면, 더 많은 세부 정보를 제공해 주세요. 어떻게 도와드릴지 알려주세요!\n",
      "\n",
      "모델: 물론이죠! 블록체인은 현대 기술의 중요한 요소로서 인공지능과 암호화 공학을 결합한 독특한 기술입니다.\n",
      "\n",
      "**블록체인의 핵심 개념:**\n",
      "1. **디지털 토큰:** 블록체인은 디지털 토큰, 가장 잘 알려진 예는 Bitcoin으로, 이 토큰들은 Satoshi Nakamoto에 의해 창설된 암호화폐인 BTC로 불립니다.\n",
      "2. **분산된 노드 네트워크:** 블록체인은 전 세계 수천 개의 컴퓨터가 참여하는 분산된 네트워크를 통해 운영됩니다. 각 기계는 블록체인의 전체 내용을 보유합니다.\n",
      "\n",
      "**블록체인이 어떻게 작동하는지 간단히 설명하자면:**\n",
      "1. **분산:** 블록체인은 전 세계의 수백 개 이상의 컴퓨터가 참여하는 분산된 네트워크를 통해 운영됩니다.\n",
      "2. **블록 생성:** 노드는 일일 일정에 따라 블록을 생성합니다(예: Bitcoin은 10분마다 한 블록). 이 블록에는 거래의 정보, 예를 들어 암호화폐를 다른 사람에게 보내는 것 같은 거래가 포함되어 있습니다.\n",
      "3. **암호화:** 데이터에 대한 변경이 허용되기 전, 이는 블록체인의 조정된 특성으로 인해 일관되게 유지되는 암호학을 사용하여 검증됩니다.\n",
      "4. **블록チェーン의 연결:** 각 블록은 이전 블록과 관련이 있으며, 이를 통해 원래 데이터가 수정될 때까지 무결성을 보장합니다.\n",
      "\n",
      "**기본 동작:**\n",
      "1. 거래를 처리하기 위해 블록체인이 필요할 때, 사용자들은 암호화폐를 사용하여 특정 주소로 보내는 블록체인의 블록에 거래를 기록하는 데 사용됩니다.\n",
      "2. 이 거래 데이터는 노드에 의해 검증되고 블록으로 변환되어 분산된 블록체인 네트워크의 일부가 됩니다.\n",
      "3. 블록은 이전 블록과 연결되기 때문에 블록 체인은 무결성을 보장합니다.\n",
      "4. 각 블록에는 일정한 양의 암호화폐를 포함하는 '미션'\\u2019이 있습니다. 이 미션은 노드를 보증하기 위해 계산에 소모된 자금을 보유하도록 동기를 제공합니다.\n",
      "\n",
      "**블록체인의 주요 이점:**\n",
      "1. **무결성:** 블록 체인은 무결성을 보장하며, 변경 또는 삭제가 불가능합니다.\n",
      "2. **분산화:** 전 세계의 노드 네트워크로 운영되어 중앙 통제 없이 실행됩니다.\n",
      "3. **비밀성과 안전성:** 암호화 기술을 사용하여 사용자 데이터를 보호하고 중단을 방지합니다.\n",
      "\n",
      "블록체인은 다양한 분야에서 혁신적이고 잠재적인 응용 프로그램이 있으며, 예를 들어 금융, 스마트 계약 및 공급망 관리 등입니다. 더 자세한 내용을 알고 싶으시면 언제든지 물어보세요!\n",
      "\n",
      "모델: 물론이죠! 블록체인은 기술 분야에서 매우 중요한 역할을 하는데, 여러 가지 세부 사항에 대한 기본적인 개요를 제공했습니다.\n",
      "\n",
      "하지만 특정 세부사항이나 블록체인의 특정 측면(예: 암호화폐, 스마트 계약, 트위스트 등)을 더 알고 싶으신가요? 추가로 궁금한 점이 있으면 언제든지 물어보세요!\n",
      "\n",
      "모델: 제공된 정보에 따르면, 당신의 이름은 Woody이라고 합니다. 다른 도움이 필요하시면 알려주세요. 어떤 종류의 지원을 찾고 계신지 말해 주세요!\n",
      "\n"
     ]
    }
   ],
   "source": [
    "while True:\n",
    "    user_input = input(\"사용자: \")\n",
    "    if user_input.lower() in [\"exit\", \"quit\"]:\n",
    "        break\n",
    "    messages.append(\n",
    "        HumanMessage(user_input)\n",
    "    )\n",
    "    response = model.invoke(messages)\n",
    "\n",
    "    messages.append(\n",
    "        response\n",
    "    )\n",
    "\n",
    "    print(f\"모델: {response.content}\\n\")"
   ]
  },
  {
   "cell_type": "markdown",
   "id": "f51875ca",
   "metadata": {},
   "source": [
    "# Using Session"
   ]
  },
  {
   "cell_type": "code",
   "execution_count": 32,
   "id": "3326869c",
   "metadata": {},
   "outputs": [],
   "source": [
    "model = ChatOllama(model=\"mistral:latest\", temperature=0.7)"
   ]
  },
  {
   "cell_type": "code",
   "execution_count": 33,
   "id": "caa7f13b",
   "metadata": {},
   "outputs": [],
   "source": [
    "from langchain_core.chat_history import InMemoryChatMessageHistory\n",
    "from langchain_core.runnables.history import RunnableWithMessageHistory\n",
    "\n",
    "store  = {}"
   ]
  },
  {
   "cell_type": "code",
   "execution_count": 34,
   "id": "4906cf98",
   "metadata": {},
   "outputs": [],
   "source": [
    "def get_session_history(session_id: str):\n",
    "    if session_id not in store:\n",
    "        store[session_id] = InMemoryChatMessageHistory()\n",
    "    return store[session_id]\n",
    "\n",
    "with_message_history = RunnableWithMessageHistory(model, get_session_history)"
   ]
  },
  {
   "cell_type": "code",
   "execution_count": 35,
   "id": "1e651c1a",
   "metadata": {},
   "outputs": [
    {
     "name": "stderr",
     "output_type": "stream",
     "text": [
      "NotImplementedError in RootListenersTracer.on_llm_end callback: NotImplementedError('Trying to load an object that doesn\\'t implement serialization: {\\'lc\\': 1, \\'type\\': \\'not_implemented\\', \\'id\\': [\\'ollama\\', \\'_types\\', \\'Message\\'], \\'repr\\': \"Message(role=\\'assistant\\', content=\\'\\', images=None, tool_calls=None)\"}')\n"
     ]
    },
    {
     "name": "stdout",
     "output_type": "stream",
     "text": [
      "안녕하세요! 좋은 아침입니까? Woody라는 이름의 친구인지 모르겠어요. Woody님이 영화 토이스트오리 시리즈의 주역인 제리 또는 떼리 같은 것 같으신가요? 그렇다면, 반갑습니다! Toy Story와 관련된 질문이나 토이스토리 영화를 좋아하시는 거라면, 질문이 있으시면 항상 즐겁게 답변해드리겠습니다.\n"
     ]
    }
   ],
   "source": [
    "config = {\"configurable\": {\"session_id\": \"abc2\"}}\n",
    "\n",
    "response = with_message_history.invoke(\n",
    "    [HumanMessage(content=\"안녕, 난 Woody야\")],\n",
    "    config=config,\n",
    ")\n",
    "\n",
    "print(response.content)"
   ]
  },
  {
   "cell_type": "code",
   "execution_count": 36,
   "id": "f25e91e4",
   "metadata": {},
   "outputs": [
    {
     "name": "stderr",
     "output_type": "stream",
     "text": [
      "NotImplementedError in RootListenersTracer.on_llm_end callback: NotImplementedError('Trying to load an object that doesn\\'t implement serialization: {\\'lc\\': 1, \\'type\\': \\'not_implemented\\', \\'id\\': [\\'ollama\\', \\'_types\\', \\'Message\\'], \\'repr\\': \"Message(role=\\'assistant\\', content=\\'\\', images=None, tool_calls=None)\"}')\n"
     ]
    },
    {
     "name": "stdout",
     "output_type": "stream",
     "text": [
      "아쉽습니다. 당신의 이름을 알 수 없습니다. 개발자나 사용자가 입력해주시면 도와드리겠습니다!\n"
     ]
    }
   ],
   "source": [
    "response = with_message_history.invoke(\n",
    "    [HumanMessage(content=\"내 이름이 뭐야?\")],\n",
    "    config=config,\n",
    ")\n",
    "\n",
    "print(response.content)"
   ]
  }
 ],
 "metadata": {
  "kernelspec": {
   "display_name": ".venv (3.12.9)",
   "language": "python",
   "name": "python3"
  },
  "language_info": {
   "codemirror_mode": {
    "name": "ipython",
    "version": 3
   },
   "file_extension": ".py",
   "mimetype": "text/x-python",
   "name": "python",
   "nbconvert_exporter": "python",
   "pygments_lexer": "ipython3",
   "version": "3.12.9"
  }
 },
 "nbformat": 4,
 "nbformat_minor": 5
}
