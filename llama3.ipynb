{
 "cells": [
  {
   "cell_type": "code",
   "execution_count": 1,
   "metadata": {},
   "outputs": [
    {
     "data": {
      "text/plain": [
       "True"
      ]
     },
     "execution_count": 1,
     "metadata": {},
     "output_type": "execute_result"
    }
   ],
   "source": [
    "from dotenv import load_dotenv\n",
    "load_dotenv()"
   ]
  },
  {
   "cell_type": "code",
   "execution_count": 5,
   "metadata": {},
   "outputs": [
    {
     "name": "stderr",
     "output_type": "stream",
     "text": [
      "Downloading shards: 100%|██████████| 4/4 [08:04<00:00, 121.09s/it]\n",
      "Loading checkpoint shards: 100%|██████████| 4/4 [01:28<00:00, 22.19s/it]\n"
     ]
    }
   ],
   "source": [
    "from transformers import AutoModelForCausalLM, AutoTokenizer\n",
    "from transformers import AutoProcessor, Gemma3ForConditionalGeneration\n",
    "\n",
    "model_name = \"meta-llama/Llama-3.1-8B-Instruct\"  # 원하는 모델명 입력\n",
    "model_path = \"./models/llama\"  # 로컬 저장 경로\n",
    "\n",
    "# 모델과 토크나이저 다운로드\n",
    "model = AutoModelForCausalLM.from_pretrained(model_name, cache_dir=model_path)\n",
    "tokenizer = AutoTokenizer.from_pretrained(model_name, cache_dir=model_path)"
   ]
  },
  {
   "cell_type": "code",
   "execution_count": 10,
   "metadata": {},
   "outputs": [
    {
     "name": "stdout",
     "output_type": "stream",
     "text": [
      "[128000, 24486, 84391, 107573, 54289]\n",
      "['<|begin_of_text|>', 'íķľ', 'ê¸Ģ', 'ĠíħĮ', 'ìĬ¤íĬ¸']\n",
      "<|begin_of_text|>한글 테스트\n",
      "<|begin_of_text|>\n",
      "한\n",
      "글\n",
      " 테\n",
      "스트\n"
     ]
    }
   ],
   "source": [
    "enc = tokenizer.encode(\"한글 테스트\")\n",
    "print(enc)\n",
    "print(tokenizer.convert_ids_to_tokens(enc))\n",
    "print(tokenizer.decode(enc))\n",
    "# 각 토큰 ID를 개별적으로 디코딩\n",
    "for token_id in enc:\n",
    "    print(tokenizer.decode([token_id]))"
   ]
  }
 ],
 "metadata": {
  "kernelspec": {
   "display_name": ".venv",
   "language": "python",
   "name": "python3"
  },
  "language_info": {
   "codemirror_mode": {
    "name": "ipython",
    "version": 3
   },
   "file_extension": ".py",
   "mimetype": "text/x-python",
   "name": "python",
   "nbconvert_exporter": "python",
   "pygments_lexer": "ipython3",
   "version": "3.12.9"
  }
 },
 "nbformat": 4,
 "nbformat_minor": 2
}
